{
  "nbformat": 4,
  "nbformat_minor": 0,
  "metadata": {
    "colab": {
      "provenance": []
    },
    "kernelspec": {
      "name": "python3",
      "display_name": "Python 3"
    },
    "language_info": {
      "name": "python"
    },
    "accelerator": "GPU"
  },
  "cells": [
    {
      "cell_type": "code",
      "metadata": {
        "colab": {
          "base_uri": "https://localhost:8080/"
        },
        "id": "4CopMgSgNzIi",
        "outputId": "a2693a7f-8c51-47e8-ac20-88e4c3b738ad"
      },
      "source": [
        "!nvidia-smi"
      ],
      "execution_count": null,
      "outputs": [
        {
          "output_type": "stream",
          "text": [
            "Thu Jul 15 10:31:14 2021       \n",
            "+-----------------------------------------------------------------------------+\n",
            "| NVIDIA-SMI 470.42.01    Driver Version: 460.32.03    CUDA Version: 11.2     |\n",
            "|-------------------------------+----------------------+----------------------+\n",
            "| GPU  Name        Persistence-M| Bus-Id        Disp.A | Volatile Uncorr. ECC |\n",
            "| Fan  Temp  Perf  Pwr:Usage/Cap|         Memory-Usage | GPU-Util  Compute M. |\n",
            "|                               |                      |               MIG M. |\n",
            "|===============================+======================+======================|\n",
            "|   0  Tesla T4            Off  | 00000000:00:04.0 Off |                    0 |\n",
            "| N/A   64C    P8    11W /  70W |      0MiB / 15109MiB |      0%      Default |\n",
            "|                               |                      |                  N/A |\n",
            "+-------------------------------+----------------------+----------------------+\n",
            "                                                                               \n",
            "+-----------------------------------------------------------------------------+\n",
            "| Processes:                                                                  |\n",
            "|  GPU   GI   CI        PID   Type   Process name                  GPU Memory |\n",
            "|        ID   ID                                                   Usage      |\n",
            "|=============================================================================|\n",
            "|  No running processes found                                                 |\n",
            "+-----------------------------------------------------------------------------+\n"
          ],
          "name": "stdout"
        }
      ]
    },
    {
      "cell_type": "code",
      "metadata": {
        "id": "yNWzjJX4OJ8_"
      },
      "source": [
        "# This Python 3 environment comes with many helpful analytics libraries installed\n",
        "# It is defined by the kaggle/python Docker image: https://github.com/kaggle/docker-python\n",
        "# For example, here's several helpful packages to load\n",
        "\n",
        "import numpy as np # linear algebra\n",
        "import pandas as pd # data processing, CSV file I/O (e.g. pd.read_csv)\n",
        "\n",
        "# Input data files are available in the read-only \"../input/\" directory\n",
        "# For example, running this (by clicking run or pressing Shift+Enter) will list all files under the input directory\n",
        "\n",
        "import os\n",
        "# for dirname, _, filenames in os.walk('/kaggle/input'):\n",
        "#     for filename in filenames:\n",
        "#         os.path.join(dirname, filename)\n",
        "\n",
        "# You can write up to 20GB to the current directory (/kaggle/working/) that gets preserved as output when you create a version using \"Save & Run All\" \n",
        "# You can also write temporary files to /kaggle/temp/, but they won't be saved outside of the current session"
      ],
      "execution_count": null,
      "outputs": []
    },
    {
      "cell_type": "code",
      "metadata": {
        "id": "u1-x-CPjORbO"
      },
      "source": [
        "import matplotlib.pyplot as plt\n",
        "import seaborn as sns\n",
        "from skimage.io import imread\n",
        "from sklearn.model_selection import train_test_split\n",
        "import keras\n",
        "from keras import Sequential\n",
        "from keras.applications import resnet_v2\n",
        "from keras.layers import Dense\n",
        "from keras.preprocessing import image"
      ],
      "execution_count": null,
      "outputs": []
    },
    {
      "cell_type": "code",
      "metadata": {
        "colab": {
          "base_uri": "https://localhost:8080/",
          "height": 203
        },
        "id": "4tZsUjgpOplz",
        "outputId": "d1de2616-82ab-48c1-86cc-4bf8d7a525f9"
      },
      "source": [
        "brain_df = pd.read_csv('/content/drive/MyDrive/brain tumor/Brain Tumor.csv',usecols=[0,1])\n",
        "brain_df.head()"
      ],
      "execution_count": null,
      "outputs": [
        {
          "output_type": "execute_result",
          "data": {
            "text/html": [
              "<div>\n",
              "<style scoped>\n",
              "    .dataframe tbody tr th:only-of-type {\n",
              "        vertical-align: middle;\n",
              "    }\n",
              "\n",
              "    .dataframe tbody tr th {\n",
              "        vertical-align: top;\n",
              "    }\n",
              "\n",
              "    .dataframe thead th {\n",
              "        text-align: right;\n",
              "    }\n",
              "</style>\n",
              "<table border=\"1\" class=\"dataframe\">\n",
              "  <thead>\n",
              "    <tr style=\"text-align: right;\">\n",
              "      <th></th>\n",
              "      <th>Image</th>\n",
              "      <th>Class</th>\n",
              "    </tr>\n",
              "  </thead>\n",
              "  <tbody>\n",
              "    <tr>\n",
              "      <th>0</th>\n",
              "      <td>Image1</td>\n",
              "      <td>0</td>\n",
              "    </tr>\n",
              "    <tr>\n",
              "      <th>1</th>\n",
              "      <td>Image2</td>\n",
              "      <td>0</td>\n",
              "    </tr>\n",
              "    <tr>\n",
              "      <th>2</th>\n",
              "      <td>Image3</td>\n",
              "      <td>1</td>\n",
              "    </tr>\n",
              "    <tr>\n",
              "      <th>3</th>\n",
              "      <td>Image4</td>\n",
              "      <td>1</td>\n",
              "    </tr>\n",
              "    <tr>\n",
              "      <th>4</th>\n",
              "      <td>Image5</td>\n",
              "      <td>0</td>\n",
              "    </tr>\n",
              "  </tbody>\n",
              "</table>\n",
              "</div>"
            ],
            "text/plain": [
              "    Image  Class\n",
              "0  Image1      0\n",
              "1  Image2      0\n",
              "2  Image3      1\n",
              "3  Image4      1\n",
              "4  Image5      0"
            ]
          },
          "metadata": {
            "tags": []
          },
          "execution_count": 6
        }
      ]
    },
    {
      "cell_type": "code",
      "metadata": {
        "colab": {
          "base_uri": "https://localhost:8080/"
        },
        "id": "gPFvcvLwun8g",
        "outputId": "6152be30-d44c-43c0-8366-3e5341bdd05f"
      },
      "source": [
        "from google.colab import drive\n",
        "drive.mount('/content/drive')"
      ],
      "execution_count": null,
      "outputs": [
        {
          "output_type": "stream",
          "text": [
            "Mounted at /content/drive\n"
          ],
          "name": "stdout"
        }
      ]
    },
    {
      "cell_type": "code",
      "metadata": {
        "colab": {
          "base_uri": "https://localhost:8080/",
          "height": 352
        },
        "id": "ma3dxDXUO6pg",
        "outputId": "b8e8438e-3f11-4b16-d889-47cb3adca692"
      },
      "source": [
        "sns.countplot(brain_df['Class'])"
      ],
      "execution_count": null,
      "outputs": [
        {
          "output_type": "stream",
          "text": [
            "/usr/local/lib/python3.7/dist-packages/seaborn/_decorators.py:43: FutureWarning: Pass the following variable as a keyword arg: x. From version 0.12, the only valid positional argument will be `data`, and passing other arguments without an explicit keyword will result in an error or misinterpretation.\n",
            "  FutureWarning\n"
          ],
          "name": "stderr"
        },
        {
          "output_type": "execute_result",
          "data": {
            "text/plain": [
              "<matplotlib.axes._subplots.AxesSubplot at 0x7fb47f35ca50>"
            ]
          },
          "metadata": {
            "tags": []
          },
          "execution_count": 7
        },
        {
          "output_type": "display_data",
          "data": {
            "image/png": "[encoded data removed]",
            "text/plain": [
              "<Figure size 432x288 with 1 Axes>"
            ]
          },
          "metadata": {
            "tags": [],
            "needs_background": "light"
          }
        }
      ]
    },
    {
      "cell_type": "code",
      "metadata": {
        "id": "Mxaf7wUtO9ui"
      },
      "source": [
        "path_list = []\n",
        "base_path = '/content/drive/MyDrive/brain tumor/Brain Tumor/Brain Tumor'\n",
        "for entry in os.listdir(base_path):\n",
        "    path_list.append( os.path.join(base_path,entry))"
      ],
      "execution_count": null,
      "outputs": []
    },
    {
      "cell_type": "code",
      "metadata": {
        "id": "TjNnM7nSPNuN"
      },
      "source": [
        "pathes_dict={os.path.splitext(os.path.basename(x))[0]: x for x in path_list}\n",
        "brain_df['pathes'] = brain_df['Image'].map(pathes_dict.get)"
      ],
      "execution_count": null,
      "outputs": []
    },
    {
      "cell_type": "code",
      "metadata": {
        "colab": {
          "base_uri": "https://localhost:8080/",
          "height": 203
        },
        "id": "gfdZWuIBPRjA",
        "outputId": "cd318bb9-be68-4c94-80fe-992bfdc1deb6"
      },
      "source": [
        "brain_df.head()"
      ],
      "execution_count": null,
      "outputs": [
        {
          "output_type": "execute_result",
          "data": {
            "text/html": [
              "<div>\n",
              "<style scoped>\n",
              "    .dataframe tbody tr th:only-of-type {\n",
              "        vertical-align: middle;\n",
              "    }\n",
              "\n",
              "    .dataframe tbody tr th {\n",
              "        vertical-align: top;\n",
              "    }\n",
              "\n",
              "    .dataframe thead th {\n",
              "        text-align: right;\n",
              "    }\n",
              "</style>\n",
              "<table border=\"1\" class=\"dataframe\">\n",
              "  <thead>\n",
              "    <tr style=\"text-align: right;\">\n",
              "      <th></th>\n",
              "      <th>Image</th>\n",
              "      <th>Class</th>\n",
              "      <th>pathes</th>\n",
              "    </tr>\n",
              "  </thead>\n",
              "  <tbody>\n",
              "    <tr>\n",
              "      <th>0</th>\n",
              "      <td>Image1</td>\n",
              "      <td>0</td>\n",
              "      <td>/content/drive/MyDrive/brain tumor/Brain Tumor...</td>\n",
              "    </tr>\n",
              "    <tr>\n",
              "      <th>1</th>\n",
              "      <td>Image2</td>\n",
              "      <td>0</td>\n",
              "      <td>/content/drive/MyDrive/brain tumor/Brain Tumor...</td>\n",
              "    </tr>\n",
              "    <tr>\n",
              "      <th>2</th>\n",
              "      <td>Image3</td>\n",
              "      <td>1</td>\n",
              "      <td>/content/drive/MyDrive/brain tumor/Brain Tumor...</td>\n",
              "    </tr>\n",
              "    <tr>\n",
              "      <th>3</th>\n",
              "      <td>Image4</td>\n",
              "      <td>1</td>\n",
              "      <td>/content/drive/MyDrive/brain tumor/Brain Tumor...</td>\n",
              "    </tr>\n",
              "    <tr>\n",
              "      <th>4</th>\n",
              "      <td>Image5</td>\n",
              "      <td>0</td>\n",
              "      <td>/content/drive/MyDrive/brain tumor/Brain Tumor...</td>\n",
              "    </tr>\n",
              "  </tbody>\n",
              "</table>\n",
              "</div>"
            ],
            "text/plain": [
              "    Image  Class                                             pathes\n",
              "0  Image1      0  /content/drive/MyDrive/brain tumor/Brain Tumor...\n",
              "1  Image2      0  /content/drive/MyDrive/brain tumor/Brain Tumor...\n",
              "2  Image3      1  /content/drive/MyDrive/brain tumor/Brain Tumor...\n",
              "3  Image4      1  /content/drive/MyDrive/brain tumor/Brain Tumor...\n",
              "4  Image5      0  /content/drive/MyDrive/brain tumor/Brain Tumor..."
            ]
          },
          "metadata": {
            "tags": []
          },
          "execution_count": 10
        }
      ]
    },
    {
      "cell_type": "code",
      "metadata": {
        "colab": {
          "base_uri": "https://localhost:8080/",
          "height": 269
        },
        "id": "_s0pfN8lPUdn",
        "outputId": "1fc55978-ae8f-4a0c-a851-afac79379b25"
      },
      "source": [
        "for x in range (0 ,9):\n",
        "    img = imread(brain_df['pathes'][x])\n",
        "    plt.imshow(img)\n",
        "    plt.subplot(3,3,x+1)"
      ],
      "execution_count": null,
      "outputs": [
        {
          "output_type": "display_data",
          "data": {
            "image/png": "[encoded data removed]",
            "text/plain": [
              "<Figure size 432x288 with 9 Axes>"
            ]
          },
          "metadata": {
            "tags": [],
            "needs_background": "light"
          }
        }
      ]
    },
    {
      "cell_type": "code",
      "metadata": {
        "id": "FdHUs3l6Pbfw"
      },
      "source": [
        "from PIL.Image import open\n",
        "brain_df['pixels']=brain_df['pathes'].map(lambda x:  np.asarray(open(x).resize((224,224))))"
      ],
      "execution_count": null,
      "outputs": []
    },
    {
      "cell_type": "code",
      "metadata": {
        "colab": {
          "base_uri": "https://localhost:8080/"
        },
        "id": "IZ7ZghW4VJdd",
        "outputId": "6abd379d-8c92-4fc9-9d67-c58b620538bb"
      },
      "source": [],
      "execution_count": null,
      "outputs": [
        {
          "output_type": "execute_result",
          "data": {
            "text/plain": [
              "0       /content/drive/MyDrive/brain tumor/Brain Tumor...\n",
              "1       /content/drive/MyDrive/brain tumor/Brain Tumor...\n",
              "2       /content/drive/MyDrive/brain tumor/Brain Tumor...\n",
              "3       /content/drive/MyDrive/brain tumor/Brain Tumor...\n",
              "4       /content/drive/MyDrive/brain tumor/Brain Tumor...\n",
              "                              ...                        \n",
              "3757    /content/drive/MyDrive/brain tumor/Brain Tumor...\n",
              "3758    /content/drive/MyDrive/brain tumor/Brain Tumor...\n",
              "3759    /content/drive/MyDrive/brain tumor/Brain Tumor...\n",
              "3760    /content/drive/MyDrive/brain tumor/Brain Tumor...\n",
              "3761    /content/drive/MyDrive/brain tumor/Brain Tumor...\n",
              "Name: pathes, Length: 3762, dtype: object"
            ]
          },
          "metadata": {
            "tags": []
          },
          "execution_count": 19
        }
      ]
    },
    {
      "cell_type": "code",
      "metadata": {
        "colab": {
          "base_uri": "https://localhost:8080/",
          "height": 203
        },
        "id": "DZVigSYuVonM",
        "outputId": "c639ec8d-4928-44fb-bffa-a14a8ee73c9b"
      },
      "source": [
        "brain_df.head()"
      ],
      "execution_count": null,
      "outputs": [
        {
          "output_type": "execute_result",
          "data": {
            "text/html": [
              "<div>\n",
              "<style scoped>\n",
              "    .dataframe tbody tr th:only-of-type {\n",
              "        vertical-align: middle;\n",
              "    }\n",
              "\n",
              "    .dataframe tbody tr th {\n",
              "        vertical-align: top;\n",
              "    }\n",
              "\n",
              "    .dataframe thead th {\n",
              "        text-align: right;\n",
              "    }\n",
              "</style>\n",
              "<table border=\"1\" class=\"dataframe\">\n",
              "  <thead>\n",
              "    <tr style=\"text-align: right;\">\n",
              "      <th></th>\n",
              "      <th>Image</th>\n",
              "      <th>Class</th>\n",
              "      <th>pathes</th>\n",
              "      <th>pixels</th>\n",
              "    </tr>\n",
              "  </thead>\n",
              "  <tbody>\n",
              "    <tr>\n",
              "      <th>0</th>\n",
              "      <td>Image1</td>\n",
              "      <td>0</td>\n",
              "      <td>/content/drive/MyDrive/brain tumor/Brain Tumor...</td>\n",
              "      <td>[[[0, 0, 0], [0, 0, 0], [0, 0, 0], [0, 0, 0], ...</td>\n",
              "    </tr>\n",
              "    <tr>\n",
              "      <th>1</th>\n",
              "      <td>Image2</td>\n",
              "      <td>0</td>\n",
              "      <td>/content/drive/MyDrive/brain tumor/Brain Tumor...</td>\n",
              "      <td>[[[0, 0, 0], [0, 0, 0], [0, 0, 0], [0, 0, 0], ...</td>\n",
              "    </tr>\n",
              "    <tr>\n",
              "      <th>2</th>\n",
              "      <td>Image3</td>\n",
              "      <td>1</td>\n",
              "      <td>/content/drive/MyDrive/brain tumor/Brain Tumor...</td>\n",
              "      <td>[[[0, 0, 0], [0, 0, 0], [0, 0, 0], [0, 0, 0], ...</td>\n",
              "    </tr>\n",
              "    <tr>\n",
              "      <th>3</th>\n",
              "      <td>Image4</td>\n",
              "      <td>1</td>\n",
              "      <td>/content/drive/MyDrive/brain tumor/Brain Tumor...</td>\n",
              "      <td>[[[0, 0, 0], [0, 0, 0], [0, 0, 0], [0, 0, 0], ...</td>\n",
              "    </tr>\n",
              "    <tr>\n",
              "      <th>4</th>\n",
              "      <td>Image5</td>\n",
              "      <td>0</td>\n",
              "      <td>/content/drive/MyDrive/brain tumor/Brain Tumor...</td>\n",
              "      <td>[[[0, 0, 0], [0, 0, 0], [0, 0, 0], [0, 0, 0], ...</td>\n",
              "    </tr>\n",
              "  </tbody>\n",
              "</table>\n",
              "</div>"
            ],
            "text/plain": [
              "    Image  ...                                             pixels\n",
              "0  Image1  ...  [[[0, 0, 0], [0, 0, 0], [0, 0, 0], [0, 0, 0], ...\n",
              "1  Image2  ...  [[[0, 0, 0], [0, 0, 0], [0, 0, 0], [0, 0, 0], ...\n",
              "2  Image3  ...  [[[0, 0, 0], [0, 0, 0], [0, 0, 0], [0, 0, 0], ...\n",
              "3  Image4  ...  [[[0, 0, 0], [0, 0, 0], [0, 0, 0], [0, 0, 0], ...\n",
              "4  Image5  ...  [[[0, 0, 0], [0, 0, 0], [0, 0, 0], [0, 0, 0], ...\n",
              "\n",
              "[5 rows x 4 columns]"
            ]
          },
          "metadata": {
            "tags": []
          },
          "execution_count": 13
        }
      ]
    },
    {
      "cell_type": "code",
      "metadata": {
        "colab": {
          "base_uri": "https://localhost:8080/"
        },
        "id": "3Kjtzoo6Vp64",
        "outputId": "4dd4faa8-85be-48bd-bfc4-b95320207bba"
      },
      "source": [
        "image_list = []\n",
        "for i in range(0,len(brain_df)):\n",
        "    # load image\n",
        "    brain_img = brain_df['pixels'][i].astype(np.float32)\n",
        "    img_array = image.img_to_array(brain_img)\n",
        "     # append to list of all images\n",
        "    image_list.append(keras.applications.resnet_v2.preprocess_input(img_array))\n",
        "    \n",
        "# convert image list to single array\n",
        "# Our feature\n",
        "X = np.array(image_list)\n",
        "\n",
        "# print shape of X\n",
        "print(X.shape)"
      ],
      "execution_count": null,
      "outputs": [
        {
          "output_type": "stream",
          "text": [
            "(3762, 224, 224, 3)\n"
          ],
          "name": "stdout"
        }
      ]
    },
    {
      "cell_type": "code",
      "metadata": {
        "id": "udt89Xj4dTvF"
      },
      "source": [
        "y = np.array(brain_df.Class)"
      ],
      "execution_count": null,
      "outputs": []
    },
    {
      "cell_type": "code",
      "metadata": {
        "colab": {
          "base_uri": "https://localhost:8080/"
        },
        "id": "I0gs-NDvdWLW",
        "outputId": "8b4b4db6-f386-48e5-ed94-84dc04f474f4"
      },
      "source": [
        "y"
      ],
      "execution_count": null,
      "outputs": [
        {
          "output_type": "execute_result",
          "data": {
            "text/plain": [
              "array([0, 0, 1, ..., 0, 0, 0])"
            ]
          },
          "metadata": {
            "tags": []
          },
          "execution_count": 16
        }
      ]
    },
    {
      "cell_type": "code",
      "metadata": {
        "colab": {
          "base_uri": "https://localhost:8080/"
        },
        "id": "Aw2QPr9idZW0",
        "outputId": "7308d756-c205-4857-b6cc-57ddbb8079d3"
      },
      "source": [
        "X_train,X_test,y_train,y_test = train_test_split(X,y\n",
        "                                                 ,test_size=0.2\n",
        "                                                ,random_state=0)\n",
        "\n",
        "\n",
        "print('The shape of the X_train :'+' '+str(X_train.shape))\n",
        "print('The size of the X_train :'+' '+str(X_train.shape[0]))\n",
        "print('The shape of the X_test :'+' '+str(X_test.shape))\n",
        "print('The size of the X_test:'+' '+str(X_test.shape[0]))"
      ],
      "execution_count": null,
      "outputs": [
        {
          "output_type": "stream",
          "text": [
            "The shape of the X_train : (3009, 224, 224, 3)\n",
            "The size of the X_train : 3009\n",
            "The shape of the X_test : (753, 224, 224, 3)\n",
            "The size of the X_test: 753\n"
          ],
          "name": "stdout"
        }
      ]
    },
    {
      "cell_type": "code",
      "metadata": {
        "colab": {
          "base_uri": "https://localhost:8080/"
        },
        "id": "jpZDo2zrddyO",
        "outputId": "9f076481-e381-40d0-a161-87a5256c9f53"
      },
      "source": [
        "num_classes = 1\n",
        "model = Sequential()\n",
        "model.add(resnet_v2.ResNet50V2(input_shape=(224, 224, 3),weights=\"imagenet\"\n",
        "                             ,include_top=False))\n",
        "model.add(keras.layers.GlobalAveragePooling2D())\n",
        "model.add( Dense(num_classes, activation='sigmoid',name='preds'))\n",
        "model.layers[0].trainable= False\n",
        "# show model summary\n",
        "model.summary()"
      ],
      "execution_count": null,
      "outputs": [
        {
          "output_type": "stream",
          "text": [
            "Downloading data from https://storage.googleapis.com/tensorflow/keras-applications/resnet/resnet50v2_weights_tf_dim_ordering_tf_kernels_notop.h5\n",
            "94674944/94668760 [==============================] - 1s 0us/step\n",
            "94683136/94668760 [==============================] - 1s 0us/step\n",
            "Model: \"sequential\"\n",
            "_________________________________________________________________\n",
            "Layer (type)                 Output Shape              Param #   \n",
            "=================================================================\n",
            "resnet50v2 (Functional)      (None, 7, 7, 2048)        23564800  \n",
            "_________________________________________________________________\n",
            "global_average_pooling2d (Gl (None, 2048)              0         \n",
            "_________________________________________________________________\n",
            "preds (Dense)                (None, 1)                 2049      \n",
            "=================================================================\n",
            "Total params: 23,566,849\n",
            "Trainable params: 2,049\n",
            "Non-trainable params: 23,564,800\n",
            "_________________________________________________________________\n"
          ],
          "name": "stdout"
        }
      ]
    },
    {
      "cell_type": "code",
      "metadata": {
        "colab": {
          "base_uri": "https://localhost:8080/"
        },
        "id": "9WZTrYpgduQT",
        "outputId": "44bdcd76-3fe3-4069-e074-af3f82292902"
      },
      "source": [
        "model.compile(\n",
        "    # set the loss as binary_crossentropy\n",
        "    loss=keras.losses.binary_crossentropy,\n",
        "    # set the optimizer as stochastic gradient descent\n",
        "    optimizer=keras.optimizers.SGD(lr=0.001),\n",
        "    # set the metric as accuracy\n",
        "    metrics=['accuracy']\n",
        ")\n",
        "\n",
        "\n",
        "# mock-train the model \n",
        "history=model.fit(\n",
        "    X_train[:,:,:,:],\n",
        "    y_train[:],\n",
        "    epochs=200,\n",
        "    verbose=1,\n",
        "    validation_data=(X_test[:,:,:,:], y_test[:])\n",
        ")\n",
        "model.save(\"resnet_model_brain.h5\")\n",
        "print(\"Saved model to disk\")"
      ],
      "execution_count": null,
      "outputs": [
        {
          "output_type": "stream",
          "text": [
            "/usr/local/lib/python3.7/dist-packages/tensorflow/python/keras/optimizer_v2/optimizer_v2.py:375: UserWarning: The `lr` argument is deprecated, use `learning_rate` instead.\n",
            "  \"The `lr` argument is deprecated, use `learning_rate` instead.\")\n"
          ],
          "name": "stderr"
        },
        {
          "output_type": "stream",
          "text": [
            "Epoch 1/200\n",
            "95/95 [==============================] - 60s 161ms/step - loss: 0.5895 - accuracy: 0.6896 - val_loss: 0.4751 - val_accuracy: 0.7782\n",
            "Epoch 2/200\n",
            "95/95 [==============================] - 10s 104ms/step - loss: 0.4211 - accuracy: 0.8243 - val_loss: 0.4804 - val_accuracy: 0.7689\n",
            "Epoch 3/200\n",
            "95/95 [==============================] - 10s 105ms/step - loss: 0.3973 - accuracy: 0.8284 - val_loss: 0.4112 - val_accuracy: 0.8300\n",
            "Epoch 4/200\n",
            "95/95 [==============================] - 10s 105ms/step - loss: 0.3557 - accuracy: 0.8546 - val_loss: 0.4098 - val_accuracy: 0.8234\n",
            "Epoch 5/200\n",
            "95/95 [==============================] - 10s 106ms/step - loss: 0.3361 - accuracy: 0.8665 - val_loss: 0.3918 - val_accuracy: 0.8327\n",
            "Epoch 6/200\n",
            "95/95 [==============================] - 10s 107ms/step - loss: 0.3324 - accuracy: 0.8645 - val_loss: 0.4010 - val_accuracy: 0.8035\n",
            "Epoch 7/200\n",
            "95/95 [==============================] - 10s 107ms/step - loss: 0.3358 - accuracy: 0.8636 - val_loss: 0.3772 - val_accuracy: 0.8380\n",
            "Epoch 8/200\n",
            "95/95 [==============================] - 10s 109ms/step - loss: 0.3318 - accuracy: 0.8631 - val_loss: 0.3722 - val_accuracy: 0.8446\n",
            "Epoch 9/200\n",
            "95/95 [==============================] - 10s 110ms/step - loss: 0.2960 - accuracy: 0.8801 - val_loss: 0.3807 - val_accuracy: 0.8313\n",
            "Epoch 10/200\n",
            "95/95 [==============================] - 10s 110ms/step - loss: 0.3012 - accuracy: 0.8853 - val_loss: 0.3705 - val_accuracy: 0.8260\n",
            "Epoch 11/200\n",
            "95/95 [==============================] - 11s 111ms/step - loss: 0.2961 - accuracy: 0.8788 - val_loss: 0.3707 - val_accuracy: 0.8300\n",
            "Epoch 12/200\n",
            "95/95 [==============================] - 10s 110ms/step - loss: 0.3028 - accuracy: 0.8686 - val_loss: 0.3554 - val_accuracy: 0.8473\n",
            "Epoch 13/200\n",
            "95/95 [==============================] - 10s 109ms/step - loss: 0.2776 - accuracy: 0.8881 - val_loss: 0.3532 - val_accuracy: 0.8513\n",
            "Epoch 14/200\n",
            "95/95 [==============================] - 10s 108ms/step - loss: 0.2956 - accuracy: 0.8686 - val_loss: 0.3539 - val_accuracy: 0.8486\n",
            "Epoch 15/200\n",
            "95/95 [==============================] - 10s 108ms/step - loss: 0.2931 - accuracy: 0.8827 - val_loss: 0.3468 - val_accuracy: 0.8446\n",
            "Epoch 16/200\n",
            "95/95 [==============================] - 10s 108ms/step - loss: 0.2860 - accuracy: 0.8822 - val_loss: 0.3451 - val_accuracy: 0.8539\n",
            "Epoch 17/200\n",
            "95/95 [==============================] - 10s 109ms/step - loss: 0.2761 - accuracy: 0.8819 - val_loss: 0.3441 - val_accuracy: 0.8513\n",
            "Epoch 18/200\n",
            "95/95 [==============================] - 10s 110ms/step - loss: 0.2848 - accuracy: 0.8826 - val_loss: 0.3425 - val_accuracy: 0.8526\n",
            "Epoch 19/200\n",
            "95/95 [==============================] - 10s 110ms/step - loss: 0.2709 - accuracy: 0.8899 - val_loss: 0.3606 - val_accuracy: 0.8459\n",
            "Epoch 20/200\n",
            "95/95 [==============================] - 10s 109ms/step - loss: 0.2784 - accuracy: 0.8887 - val_loss: 0.3792 - val_accuracy: 0.8393\n",
            "Epoch 21/200\n",
            "95/95 [==============================] - 10s 109ms/step - loss: 0.2729 - accuracy: 0.8899 - val_loss: 0.3359 - val_accuracy: 0.8566\n",
            "Epoch 22/200\n",
            "95/95 [==============================] - 10s 109ms/step - loss: 0.2694 - accuracy: 0.8858 - val_loss: 0.3602 - val_accuracy: 0.8446\n",
            "Epoch 23/200\n",
            "95/95 [==============================] - 10s 109ms/step - loss: 0.2632 - accuracy: 0.8934 - val_loss: 0.3321 - val_accuracy: 0.8619\n",
            "Epoch 24/200\n",
            "95/95 [==============================] - 10s 109ms/step - loss: 0.2623 - accuracy: 0.8965 - val_loss: 0.3310 - val_accuracy: 0.8592\n",
            "Epoch 25/200\n",
            "95/95 [==============================] - 10s 109ms/step - loss: 0.2527 - accuracy: 0.9026 - val_loss: 0.3326 - val_accuracy: 0.8539\n",
            "Epoch 26/200\n",
            "95/95 [==============================] - 10s 109ms/step - loss: 0.2553 - accuracy: 0.9001 - val_loss: 0.3288 - val_accuracy: 0.8619\n",
            "Epoch 27/200\n",
            "95/95 [==============================] - 10s 109ms/step - loss: 0.2537 - accuracy: 0.8943 - val_loss: 0.3274 - val_accuracy: 0.8606\n",
            "Epoch 28/200\n",
            "95/95 [==============================] - 10s 109ms/step - loss: 0.2520 - accuracy: 0.9045 - val_loss: 0.3257 - val_accuracy: 0.8659\n",
            "Epoch 29/200\n",
            "95/95 [==============================] - 10s 109ms/step - loss: 0.2429 - accuracy: 0.9054 - val_loss: 0.3283 - val_accuracy: 0.8632\n",
            "Epoch 30/200\n",
            "95/95 [==============================] - 10s 109ms/step - loss: 0.2535 - accuracy: 0.9013 - val_loss: 0.3235 - val_accuracy: 0.8632\n",
            "Epoch 31/200\n",
            "95/95 [==============================] - 10s 110ms/step - loss: 0.2407 - accuracy: 0.9011 - val_loss: 0.3250 - val_accuracy: 0.8685\n",
            "Epoch 32/200\n",
            "95/95 [==============================] - 10s 110ms/step - loss: 0.2612 - accuracy: 0.8937 - val_loss: 0.3218 - val_accuracy: 0.8619\n",
            "Epoch 33/200\n",
            "95/95 [==============================] - 10s 109ms/step - loss: 0.2509 - accuracy: 0.9007 - val_loss: 0.3205 - val_accuracy: 0.8659\n",
            "Epoch 34/200\n",
            "95/95 [==============================] - 10s 109ms/step - loss: 0.2441 - accuracy: 0.9043 - val_loss: 0.3188 - val_accuracy: 0.8699\n",
            "Epoch 35/200\n",
            "95/95 [==============================] - 10s 109ms/step - loss: 0.2437 - accuracy: 0.9034 - val_loss: 0.3224 - val_accuracy: 0.8672\n",
            "Epoch 36/200\n",
            "95/95 [==============================] - 10s 109ms/step - loss: 0.2469 - accuracy: 0.8993 - val_loss: 0.3271 - val_accuracy: 0.8699\n",
            "Epoch 37/200\n",
            "95/95 [==============================] - 10s 109ms/step - loss: 0.2321 - accuracy: 0.9127 - val_loss: 0.3183 - val_accuracy: 0.8645\n",
            "Epoch 38/200\n",
            "95/95 [==============================] - 10s 109ms/step - loss: 0.2135 - accuracy: 0.9194 - val_loss: 0.3171 - val_accuracy: 0.8685\n",
            "Epoch 39/200\n",
            "95/95 [==============================] - 10s 109ms/step - loss: 0.2257 - accuracy: 0.9114 - val_loss: 0.3150 - val_accuracy: 0.8712\n",
            "Epoch 40/200\n",
            "95/95 [==============================] - 10s 109ms/step - loss: 0.2369 - accuracy: 0.9074 - val_loss: 0.3146 - val_accuracy: 0.8672\n",
            "Epoch 41/200\n",
            "95/95 [==============================] - 10s 109ms/step - loss: 0.2245 - accuracy: 0.9111 - val_loss: 0.3153 - val_accuracy: 0.8645\n",
            "Epoch 42/200\n",
            "95/95 [==============================] - 10s 109ms/step - loss: 0.2285 - accuracy: 0.9097 - val_loss: 0.3146 - val_accuracy: 0.8685\n",
            "Epoch 43/200\n",
            "95/95 [==============================] - 10s 109ms/step - loss: 0.2407 - accuracy: 0.9093 - val_loss: 0.3129 - val_accuracy: 0.8672\n",
            "Epoch 44/200\n",
            "95/95 [==============================] - 10s 110ms/step - loss: 0.2318 - accuracy: 0.9019 - val_loss: 0.3114 - val_accuracy: 0.8672\n",
            "Epoch 45/200\n",
            "95/95 [==============================] - 10s 109ms/step - loss: 0.2296 - accuracy: 0.9083 - val_loss: 0.3107 - val_accuracy: 0.8672\n",
            "Epoch 46/200\n",
            "95/95 [==============================] - 10s 110ms/step - loss: 0.2298 - accuracy: 0.9075 - val_loss: 0.3191 - val_accuracy: 0.8712\n",
            "Epoch 47/200\n",
            "95/95 [==============================] - 10s 109ms/step - loss: 0.2326 - accuracy: 0.9005 - val_loss: 0.3105 - val_accuracy: 0.8685\n",
            "Epoch 48/200\n",
            "95/95 [==============================] - 10s 110ms/step - loss: 0.2293 - accuracy: 0.9122 - val_loss: 0.3084 - val_accuracy: 0.8685\n",
            "Epoch 49/200\n",
            "95/95 [==============================] - 10s 109ms/step - loss: 0.2324 - accuracy: 0.9035 - val_loss: 0.3144 - val_accuracy: 0.8725\n",
            "Epoch 50/200\n",
            "95/95 [==============================] - 10s 109ms/step - loss: 0.2344 - accuracy: 0.9076 - val_loss: 0.3073 - val_accuracy: 0.8712\n",
            "Epoch 51/200\n",
            "95/95 [==============================] - 10s 110ms/step - loss: 0.2159 - accuracy: 0.9105 - val_loss: 0.3074 - val_accuracy: 0.8699\n",
            "Epoch 52/200\n",
            "95/95 [==============================] - 10s 109ms/step - loss: 0.2270 - accuracy: 0.9110 - val_loss: 0.3278 - val_accuracy: 0.8619\n",
            "Epoch 53/200\n",
            "95/95 [==============================] - 10s 110ms/step - loss: 0.2279 - accuracy: 0.9038 - val_loss: 0.3231 - val_accuracy: 0.8685\n",
            "Epoch 54/200\n",
            "95/95 [==============================] - 10s 109ms/step - loss: 0.2232 - accuracy: 0.9140 - val_loss: 0.3073 - val_accuracy: 0.8699\n",
            "Epoch 55/200\n",
            "95/95 [==============================] - 10s 110ms/step - loss: 0.2115 - accuracy: 0.9180 - val_loss: 0.3094 - val_accuracy: 0.8752\n",
            "Epoch 56/200\n",
            "95/95 [==============================] - 10s 109ms/step - loss: 0.2207 - accuracy: 0.9126 - val_loss: 0.3037 - val_accuracy: 0.8699\n",
            "Epoch 57/200\n",
            "95/95 [==============================] - 10s 109ms/step - loss: 0.2024 - accuracy: 0.9189 - val_loss: 0.3041 - val_accuracy: 0.8712\n",
            "Epoch 58/200\n",
            "95/95 [==============================] - 10s 109ms/step - loss: 0.2157 - accuracy: 0.9092 - val_loss: 0.3037 - val_accuracy: 0.8712\n",
            "Epoch 59/200\n",
            "95/95 [==============================] - 10s 109ms/step - loss: 0.2261 - accuracy: 0.9012 - val_loss: 0.3074 - val_accuracy: 0.8778\n",
            "Epoch 60/200\n",
            "95/95 [==============================] - 10s 109ms/step - loss: 0.2264 - accuracy: 0.9076 - val_loss: 0.3108 - val_accuracy: 0.8738\n",
            "Epoch 61/200\n",
            "95/95 [==============================] - 10s 109ms/step - loss: 0.2090 - accuracy: 0.9147 - val_loss: 0.3036 - val_accuracy: 0.8725\n",
            "Epoch 62/200\n",
            "95/95 [==============================] - 10s 109ms/step - loss: 0.2186 - accuracy: 0.9106 - val_loss: 0.3004 - val_accuracy: 0.8699\n",
            "Epoch 63/200\n",
            "95/95 [==============================] - 10s 109ms/step - loss: 0.2128 - accuracy: 0.9159 - val_loss: 0.3010 - val_accuracy: 0.8738\n",
            "Epoch 64/200\n",
            "95/95 [==============================] - 10s 109ms/step - loss: 0.2063 - accuracy: 0.9235 - val_loss: 0.3047 - val_accuracy: 0.8752\n",
            "Epoch 65/200\n",
            "95/95 [==============================] - 10s 110ms/step - loss: 0.2175 - accuracy: 0.9180 - val_loss: 0.2993 - val_accuracy: 0.8725\n",
            "Epoch 66/200\n",
            "95/95 [==============================] - 10s 109ms/step - loss: 0.2073 - accuracy: 0.9200 - val_loss: 0.3048 - val_accuracy: 0.8778\n",
            "Epoch 67/200\n",
            "95/95 [==============================] - 10s 109ms/step - loss: 0.2069 - accuracy: 0.9261 - val_loss: 0.3017 - val_accuracy: 0.8778\n",
            "Epoch 68/200\n",
            "95/95 [==============================] - 10s 109ms/step - loss: 0.2222 - accuracy: 0.9081 - val_loss: 0.2978 - val_accuracy: 0.8738\n",
            "Epoch 69/200\n",
            "95/95 [==============================] - 10s 109ms/step - loss: 0.2008 - accuracy: 0.9170 - val_loss: 0.2976 - val_accuracy: 0.8725\n",
            "Epoch 70/200\n",
            "95/95 [==============================] - 10s 109ms/step - loss: 0.2357 - accuracy: 0.9073 - val_loss: 0.2966 - val_accuracy: 0.8738\n",
            "Epoch 71/200\n",
            "95/95 [==============================] - 10s 110ms/step - loss: 0.2174 - accuracy: 0.9179 - val_loss: 0.2965 - val_accuracy: 0.8712\n",
            "Epoch 72/200\n",
            "95/95 [==============================] - 10s 109ms/step - loss: 0.1991 - accuracy: 0.9223 - val_loss: 0.3244 - val_accuracy: 0.8566\n",
            "Epoch 73/200\n",
            "95/95 [==============================] - 10s 109ms/step - loss: 0.2138 - accuracy: 0.9140 - val_loss: 0.2962 - val_accuracy: 0.8699\n",
            "Epoch 74/200\n",
            "95/95 [==============================] - 10s 109ms/step - loss: 0.2066 - accuracy: 0.9212 - val_loss: 0.2975 - val_accuracy: 0.8765\n",
            "Epoch 75/200\n",
            "95/95 [==============================] - 10s 110ms/step - loss: 0.2039 - accuracy: 0.9192 - val_loss: 0.2954 - val_accuracy: 0.8738\n",
            "Epoch 76/200\n",
            "95/95 [==============================] - 10s 110ms/step - loss: 0.1990 - accuracy: 0.9251 - val_loss: 0.2940 - val_accuracy: 0.8712\n",
            "Epoch 77/200\n",
            "95/95 [==============================] - 10s 110ms/step - loss: 0.2090 - accuracy: 0.9175 - val_loss: 0.2943 - val_accuracy: 0.8738\n",
            "Epoch 78/200\n",
            "95/95 [==============================] - 10s 109ms/step - loss: 0.2102 - accuracy: 0.9223 - val_loss: 0.2931 - val_accuracy: 0.8725\n",
            "Epoch 79/200\n",
            "95/95 [==============================] - 10s 109ms/step - loss: 0.2025 - accuracy: 0.9222 - val_loss: 0.3166 - val_accuracy: 0.8699\n",
            "Epoch 80/200\n",
            "95/95 [==============================] - 10s 109ms/step - loss: 0.2158 - accuracy: 0.9136 - val_loss: 0.2920 - val_accuracy: 0.8725\n",
            "Epoch 81/200\n",
            "95/95 [==============================] - 10s 109ms/step - loss: 0.2191 - accuracy: 0.9162 - val_loss: 0.2910 - val_accuracy: 0.8738\n",
            "Epoch 82/200\n",
            "95/95 [==============================] - 10s 109ms/step - loss: 0.1994 - accuracy: 0.9263 - val_loss: 0.2917 - val_accuracy: 0.8725\n",
            "Epoch 83/200\n",
            "95/95 [==============================] - 10s 110ms/step - loss: 0.1975 - accuracy: 0.9285 - val_loss: 0.2910 - val_accuracy: 0.8725\n",
            "Epoch 84/200\n",
            "95/95 [==============================] - 10s 109ms/step - loss: 0.1986 - accuracy: 0.9246 - val_loss: 0.2917 - val_accuracy: 0.8765\n",
            "Epoch 85/200\n",
            "95/95 [==============================] - 10s 110ms/step - loss: 0.1926 - accuracy: 0.9217 - val_loss: 0.2903 - val_accuracy: 0.8752\n",
            "Epoch 86/200\n",
            "95/95 [==============================] - 10s 109ms/step - loss: 0.1951 - accuracy: 0.9202 - val_loss: 0.2902 - val_accuracy: 0.8765\n",
            "Epoch 87/200\n",
            "95/95 [==============================] - 10s 109ms/step - loss: 0.2061 - accuracy: 0.9198 - val_loss: 0.2909 - val_accuracy: 0.8752\n",
            "Epoch 88/200\n",
            "95/95 [==============================] - 10s 109ms/step - loss: 0.1901 - accuracy: 0.9297 - val_loss: 0.2933 - val_accuracy: 0.8765\n",
            "Epoch 89/200\n",
            "95/95 [==============================] - 10s 109ms/step - loss: 0.1968 - accuracy: 0.9273 - val_loss: 0.2900 - val_accuracy: 0.8738\n",
            "Epoch 90/200\n",
            "95/95 [==============================] - 10s 110ms/step - loss: 0.1971 - accuracy: 0.9225 - val_loss: 0.2892 - val_accuracy: 0.8738\n",
            "Epoch 91/200\n",
            "95/95 [==============================] - 10s 109ms/step - loss: 0.1959 - accuracy: 0.9250 - val_loss: 0.2960 - val_accuracy: 0.8805\n",
            "Epoch 92/200\n",
            "95/95 [==============================] - 10s 110ms/step - loss: 0.2070 - accuracy: 0.9166 - val_loss: 0.2874 - val_accuracy: 0.8778\n",
            "Epoch 93/200\n",
            "95/95 [==============================] - 11s 115ms/step - loss: 0.2131 - accuracy: 0.9149 - val_loss: 0.2879 - val_accuracy: 0.8778\n",
            "Epoch 94/200\n",
            "95/95 [==============================] - 10s 109ms/step - loss: 0.1968 - accuracy: 0.9195 - val_loss: 0.2875 - val_accuracy: 0.8752\n",
            "Epoch 95/200\n",
            "95/95 [==============================] - 10s 110ms/step - loss: 0.1921 - accuracy: 0.9280 - val_loss: 0.2905 - val_accuracy: 0.8778\n",
            "Epoch 96/200\n",
            "95/95 [==============================] - 11s 115ms/step - loss: 0.2056 - accuracy: 0.9204 - val_loss: 0.2860 - val_accuracy: 0.8778\n",
            "Epoch 97/200\n",
            "95/95 [==============================] - 10s 109ms/step - loss: 0.1831 - accuracy: 0.9269 - val_loss: 0.2884 - val_accuracy: 0.8765\n",
            "Epoch 98/200\n",
            "95/95 [==============================] - 10s 109ms/step - loss: 0.1802 - accuracy: 0.9340 - val_loss: 0.2904 - val_accuracy: 0.8778\n",
            "Epoch 99/200\n",
            "95/95 [==============================] - 10s 110ms/step - loss: 0.1890 - accuracy: 0.9347 - val_loss: 0.2858 - val_accuracy: 0.8752\n",
            "Epoch 100/200\n",
            "95/95 [==============================] - 10s 110ms/step - loss: 0.1945 - accuracy: 0.9220 - val_loss: 0.2861 - val_accuracy: 0.8778\n",
            "Epoch 101/200\n",
            "95/95 [==============================] - 10s 110ms/step - loss: 0.1930 - accuracy: 0.9239 - val_loss: 0.2862 - val_accuracy: 0.8778\n",
            "Epoch 102/200\n",
            "95/95 [==============================] - 10s 109ms/step - loss: 0.1886 - accuracy: 0.9281 - val_loss: 0.2999 - val_accuracy: 0.8752\n",
            "Epoch 103/200\n",
            "95/95 [==============================] - 10s 110ms/step - loss: 0.2007 - accuracy: 0.9217 - val_loss: 0.2865 - val_accuracy: 0.8792\n",
            "Epoch 104/200\n",
            "95/95 [==============================] - 10s 110ms/step - loss: 0.2021 - accuracy: 0.9191 - val_loss: 0.2853 - val_accuracy: 0.8778\n",
            "Epoch 105/200\n",
            "95/95 [==============================] - 11s 115ms/step - loss: 0.1904 - accuracy: 0.9220 - val_loss: 0.2848 - val_accuracy: 0.8752\n",
            "Epoch 106/200\n",
            "95/95 [==============================] - 10s 110ms/step - loss: 0.1955 - accuracy: 0.9264 - val_loss: 0.2852 - val_accuracy: 0.8778\n",
            "Epoch 107/200\n",
            "95/95 [==============================] - 10s 110ms/step - loss: 0.1838 - accuracy: 0.9307 - val_loss: 0.2929 - val_accuracy: 0.8831\n",
            "Epoch 108/200\n",
            "95/95 [==============================] - 10s 110ms/step - loss: 0.1957 - accuracy: 0.9262 - val_loss: 0.2841 - val_accuracy: 0.8765\n",
            "Epoch 109/200\n",
            "95/95 [==============================] - 10s 110ms/step - loss: 0.1848 - accuracy: 0.9321 - val_loss: 0.2843 - val_accuracy: 0.8792\n",
            "Epoch 110/200\n",
            "95/95 [==============================] - 10s 110ms/step - loss: 0.1948 - accuracy: 0.9230 - val_loss: 0.2839 - val_accuracy: 0.8778\n",
            "Epoch 111/200\n",
            "95/95 [==============================] - 10s 109ms/step - loss: 0.1883 - accuracy: 0.9289 - val_loss: 0.2830 - val_accuracy: 0.8752\n",
            "Epoch 112/200\n",
            "95/95 [==============================] - 10s 109ms/step - loss: 0.1833 - accuracy: 0.9316 - val_loss: 0.2836 - val_accuracy: 0.8778\n",
            "Epoch 113/200\n",
            "95/95 [==============================] - 10s 110ms/step - loss: 0.1858 - accuracy: 0.9326 - val_loss: 0.2829 - val_accuracy: 0.8778\n",
            "Epoch 114/200\n",
            "95/95 [==============================] - 10s 109ms/step - loss: 0.1807 - accuracy: 0.9381 - val_loss: 0.2820 - val_accuracy: 0.8805\n",
            "Epoch 115/200\n",
            "95/95 [==============================] - 11s 115ms/step - loss: 0.1949 - accuracy: 0.9242 - val_loss: 0.3057 - val_accuracy: 0.8752\n",
            "Epoch 116/200\n",
            "95/95 [==============================] - 10s 109ms/step - loss: 0.1950 - accuracy: 0.9197 - val_loss: 0.2837 - val_accuracy: 0.8765\n",
            "Epoch 117/200\n",
            "95/95 [==============================] - 10s 109ms/step - loss: 0.1907 - accuracy: 0.9230 - val_loss: 0.2803 - val_accuracy: 0.8805\n",
            "Epoch 118/200\n",
            "95/95 [==============================] - 10s 110ms/step - loss: 0.1822 - accuracy: 0.9268 - val_loss: 0.2803 - val_accuracy: 0.8792\n",
            "Epoch 119/200\n",
            "95/95 [==============================] - 10s 110ms/step - loss: 0.1946 - accuracy: 0.9233 - val_loss: 0.2883 - val_accuracy: 0.8818\n",
            "Epoch 120/200\n",
            "95/95 [==============================] - 10s 110ms/step - loss: 0.1913 - accuracy: 0.9280 - val_loss: 0.3158 - val_accuracy: 0.8632\n",
            "Epoch 121/200\n",
            "95/95 [==============================] - 10s 110ms/step - loss: 0.2014 - accuracy: 0.9202 - val_loss: 0.2826 - val_accuracy: 0.8765\n",
            "Epoch 122/200\n",
            "95/95 [==============================] - 10s 110ms/step - loss: 0.1801 - accuracy: 0.9356 - val_loss: 0.2805 - val_accuracy: 0.8778\n",
            "Epoch 123/200\n",
            "95/95 [==============================] - 10s 109ms/step - loss: 0.1847 - accuracy: 0.9319 - val_loss: 0.2864 - val_accuracy: 0.8831\n",
            "Epoch 124/200\n",
            "95/95 [==============================] - 10s 110ms/step - loss: 0.1817 - accuracy: 0.9289 - val_loss: 0.2788 - val_accuracy: 0.8831\n",
            "Epoch 125/200\n",
            "95/95 [==============================] - 10s 110ms/step - loss: 0.1829 - accuracy: 0.9291 - val_loss: 0.2785 - val_accuracy: 0.8818\n",
            "Epoch 126/200\n",
            "95/95 [==============================] - 10s 109ms/step - loss: 0.1796 - accuracy: 0.9321 - val_loss: 0.2791 - val_accuracy: 0.8805\n",
            "Epoch 127/200\n",
            "95/95 [==============================] - 10s 109ms/step - loss: 0.1823 - accuracy: 0.9282 - val_loss: 0.2795 - val_accuracy: 0.8805\n",
            "Epoch 128/200\n",
            "95/95 [==============================] - 10s 109ms/step - loss: 0.1885 - accuracy: 0.9286 - val_loss: 0.2920 - val_accuracy: 0.8752\n",
            "Epoch 129/200\n",
            "95/95 [==============================] - 10s 110ms/step - loss: 0.1793 - accuracy: 0.9317 - val_loss: 0.2776 - val_accuracy: 0.8845\n",
            "Epoch 130/200\n",
            "95/95 [==============================] - 11s 115ms/step - loss: 0.1768 - accuracy: 0.9355 - val_loss: 0.2782 - val_accuracy: 0.8805\n",
            "Epoch 131/200\n",
            "95/95 [==============================] - 10s 109ms/step - loss: 0.1902 - accuracy: 0.9290 - val_loss: 0.2773 - val_accuracy: 0.8831\n",
            "Epoch 132/200\n",
            "95/95 [==============================] - 10s 110ms/step - loss: 0.1770 - accuracy: 0.9356 - val_loss: 0.2774 - val_accuracy: 0.8805\n",
            "Epoch 133/200\n",
            "95/95 [==============================] - 10s 110ms/step - loss: 0.1887 - accuracy: 0.9280 - val_loss: 0.2779 - val_accuracy: 0.8818\n",
            "Epoch 134/200\n",
            "95/95 [==============================] - 10s 110ms/step - loss: 0.1793 - accuracy: 0.9340 - val_loss: 0.2800 - val_accuracy: 0.8818\n",
            "Epoch 135/200\n",
            "95/95 [==============================] - 11s 111ms/step - loss: 0.1749 - accuracy: 0.9309 - val_loss: 0.2766 - val_accuracy: 0.8818\n",
            "Epoch 136/200\n",
            "95/95 [==============================] - 10s 110ms/step - loss: 0.1816 - accuracy: 0.9289 - val_loss: 0.2797 - val_accuracy: 0.8818\n",
            "Epoch 137/200\n",
            "95/95 [==============================] - 10s 109ms/step - loss: 0.1861 - accuracy: 0.9251 - val_loss: 0.2777 - val_accuracy: 0.8778\n",
            "Epoch 138/200\n",
            "95/95 [==============================] - 10s 110ms/step - loss: 0.1759 - accuracy: 0.9317 - val_loss: 0.2762 - val_accuracy: 0.8871\n",
            "Epoch 139/200\n",
            "95/95 [==============================] - 10s 109ms/step - loss: 0.1840 - accuracy: 0.9289 - val_loss: 0.2890 - val_accuracy: 0.8805\n",
            "Epoch 140/200\n",
            "95/95 [==============================] - 10s 110ms/step - loss: 0.1699 - accuracy: 0.9362 - val_loss: 0.2758 - val_accuracy: 0.8858\n",
            "Epoch 141/200\n",
            "95/95 [==============================] - 10s 109ms/step - loss: 0.1832 - accuracy: 0.9281 - val_loss: 0.2760 - val_accuracy: 0.8845\n",
            "Epoch 142/200\n",
            "95/95 [==============================] - 10s 110ms/step - loss: 0.1729 - accuracy: 0.9367 - val_loss: 0.2757 - val_accuracy: 0.8818\n",
            "Epoch 143/200\n",
            "95/95 [==============================] - 10s 109ms/step - loss: 0.1778 - accuracy: 0.9289 - val_loss: 0.2789 - val_accuracy: 0.8805\n",
            "Epoch 144/200\n",
            "95/95 [==============================] - 10s 109ms/step - loss: 0.1858 - accuracy: 0.9305 - val_loss: 0.2759 - val_accuracy: 0.8831\n",
            "Epoch 145/200\n",
            "95/95 [==============================] - 10s 110ms/step - loss: 0.1756 - accuracy: 0.9360 - val_loss: 0.2752 - val_accuracy: 0.8884\n",
            "Epoch 146/200\n",
            "95/95 [==============================] - 10s 110ms/step - loss: 0.1831 - accuracy: 0.9312 - val_loss: 0.2758 - val_accuracy: 0.8818\n",
            "Epoch 147/200\n",
            "95/95 [==============================] - 10s 110ms/step - loss: 0.1825 - accuracy: 0.9311 - val_loss: 0.2757 - val_accuracy: 0.8831\n",
            "Epoch 148/200\n",
            "95/95 [==============================] - 10s 110ms/step - loss: 0.1730 - accuracy: 0.9349 - val_loss: 0.2751 - val_accuracy: 0.8858\n",
            "Epoch 149/200\n",
            "95/95 [==============================] - 10s 109ms/step - loss: 0.1787 - accuracy: 0.9249 - val_loss: 0.2796 - val_accuracy: 0.8831\n",
            "Epoch 150/200\n",
            "95/95 [==============================] - 10s 110ms/step - loss: 0.1813 - accuracy: 0.9304 - val_loss: 0.2743 - val_accuracy: 0.8871\n",
            "Epoch 151/200\n",
            "95/95 [==============================] - 10s 109ms/step - loss: 0.1765 - accuracy: 0.9282 - val_loss: 0.2749 - val_accuracy: 0.8871\n",
            "Epoch 152/200\n",
            "95/95 [==============================] - 10s 110ms/step - loss: 0.1716 - accuracy: 0.9317 - val_loss: 0.2739 - val_accuracy: 0.8831\n",
            "Epoch 153/200\n",
            "95/95 [==============================] - 10s 110ms/step - loss: 0.1814 - accuracy: 0.9323 - val_loss: 0.2759 - val_accuracy: 0.8831\n",
            "Epoch 154/200\n",
            "95/95 [==============================] - 10s 110ms/step - loss: 0.1769 - accuracy: 0.9317 - val_loss: 0.2736 - val_accuracy: 0.8898\n",
            "Epoch 155/200\n",
            "95/95 [==============================] - 10s 110ms/step - loss: 0.1740 - accuracy: 0.9283 - val_loss: 0.2734 - val_accuracy: 0.8898\n",
            "Epoch 156/200\n",
            "95/95 [==============================] - 10s 110ms/step - loss: 0.1764 - accuracy: 0.9363 - val_loss: 0.2791 - val_accuracy: 0.8831\n",
            "Epoch 157/200\n",
            "95/95 [==============================] - 10s 110ms/step - loss: 0.1878 - accuracy: 0.9247 - val_loss: 0.2730 - val_accuracy: 0.8884\n",
            "Epoch 158/200\n",
            "95/95 [==============================] - 10s 110ms/step - loss: 0.1614 - accuracy: 0.9383 - val_loss: 0.2744 - val_accuracy: 0.8818\n",
            "Epoch 159/200\n",
            "95/95 [==============================] - 10s 110ms/step - loss: 0.1776 - accuracy: 0.9270 - val_loss: 0.2736 - val_accuracy: 0.8831\n",
            "Epoch 160/200\n",
            "95/95 [==============================] - 10s 110ms/step - loss: 0.1770 - accuracy: 0.9330 - val_loss: 0.2760 - val_accuracy: 0.8818\n",
            "Epoch 161/200\n",
            "95/95 [==============================] - 10s 109ms/step - loss: 0.1766 - accuracy: 0.9327 - val_loss: 0.2723 - val_accuracy: 0.8911\n",
            "Epoch 162/200\n",
            "95/95 [==============================] - 10s 110ms/step - loss: 0.1799 - accuracy: 0.9294 - val_loss: 0.2733 - val_accuracy: 0.8831\n",
            "Epoch 163/200\n",
            "95/95 [==============================] - 10s 110ms/step - loss: 0.1740 - accuracy: 0.9394 - val_loss: 0.2726 - val_accuracy: 0.8898\n",
            "Epoch 164/200\n",
            "95/95 [==============================] - 10s 109ms/step - loss: 0.1697 - accuracy: 0.9326 - val_loss: 0.2725 - val_accuracy: 0.8884\n",
            "Epoch 165/200\n",
            "95/95 [==============================] - 10s 110ms/step - loss: 0.1669 - accuracy: 0.9395 - val_loss: 0.2719 - val_accuracy: 0.8898\n",
            "Epoch 166/200\n",
            "95/95 [==============================] - 10s 110ms/step - loss: 0.1855 - accuracy: 0.9258 - val_loss: 0.2715 - val_accuracy: 0.8898\n",
            "Epoch 167/200\n",
            "95/95 [==============================] - 10s 110ms/step - loss: 0.1686 - accuracy: 0.9354 - val_loss: 0.3103 - val_accuracy: 0.8712\n",
            "Epoch 168/200\n",
            "95/95 [==============================] - 10s 110ms/step - loss: 0.1673 - accuracy: 0.9390 - val_loss: 0.2782 - val_accuracy: 0.8792\n",
            "Epoch 169/200\n",
            "95/95 [==============================] - 11s 111ms/step - loss: 0.1681 - accuracy: 0.9396 - val_loss: 0.2713 - val_accuracy: 0.8858\n",
            "Epoch 170/200\n",
            "95/95 [==============================] - 10s 111ms/step - loss: 0.1697 - accuracy: 0.9407 - val_loss: 0.2724 - val_accuracy: 0.8871\n",
            "Epoch 171/200\n",
            "95/95 [==============================] - 11s 111ms/step - loss: 0.1627 - accuracy: 0.9391 - val_loss: 0.2732 - val_accuracy: 0.8805\n",
            "Epoch 172/200\n",
            "95/95 [==============================] - 11s 111ms/step - loss: 0.1700 - accuracy: 0.9394 - val_loss: 0.2725 - val_accuracy: 0.8845\n",
            "Epoch 173/200\n",
            "95/95 [==============================] - 11s 111ms/step - loss: 0.1648 - accuracy: 0.9382 - val_loss: 0.2707 - val_accuracy: 0.8858\n",
            "Epoch 174/200\n",
            "95/95 [==============================] - 10s 110ms/step - loss: 0.1599 - accuracy: 0.9436 - val_loss: 0.2705 - val_accuracy: 0.8884\n",
            "Epoch 175/200\n",
            "95/95 [==============================] - 10s 110ms/step - loss: 0.1680 - accuracy: 0.9362 - val_loss: 0.2702 - val_accuracy: 0.8845\n",
            "Epoch 176/200\n",
            "95/95 [==============================] - 10s 111ms/step - loss: 0.1704 - accuracy: 0.9365 - val_loss: 0.2713 - val_accuracy: 0.8884\n",
            "Epoch 177/200\n",
            "95/95 [==============================] - 10s 110ms/step - loss: 0.1622 - accuracy: 0.9435 - val_loss: 0.2798 - val_accuracy: 0.8845\n",
            "Epoch 178/200\n",
            "95/95 [==============================] - 10s 110ms/step - loss: 0.1687 - accuracy: 0.9377 - val_loss: 0.2715 - val_accuracy: 0.8911\n",
            "Epoch 179/200\n",
            "95/95 [==============================] - 10s 110ms/step - loss: 0.1766 - accuracy: 0.9337 - val_loss: 0.2702 - val_accuracy: 0.8831\n",
            "Epoch 180/200\n",
            "95/95 [==============================] - 10s 109ms/step - loss: 0.1681 - accuracy: 0.9361 - val_loss: 0.2699 - val_accuracy: 0.8831\n",
            "Epoch 181/200\n",
            "95/95 [==============================] - 10s 110ms/step - loss: 0.1717 - accuracy: 0.9329 - val_loss: 0.2708 - val_accuracy: 0.8845\n",
            "Epoch 182/200\n",
            "95/95 [==============================] - 10s 110ms/step - loss: 0.1680 - accuracy: 0.9389 - val_loss: 0.2815 - val_accuracy: 0.8871\n",
            "Epoch 183/200\n",
            "95/95 [==============================] - 10s 110ms/step - loss: 0.1720 - accuracy: 0.9325 - val_loss: 0.2686 - val_accuracy: 0.8831\n",
            "Epoch 184/200\n",
            "95/95 [==============================] - 10s 110ms/step - loss: 0.1669 - accuracy: 0.9401 - val_loss: 0.2687 - val_accuracy: 0.8898\n",
            "Epoch 185/200\n",
            "95/95 [==============================] - 10s 110ms/step - loss: 0.1709 - accuracy: 0.9391 - val_loss: 0.2708 - val_accuracy: 0.8858\n",
            "Epoch 186/200\n",
            "95/95 [==============================] - 10s 110ms/step - loss: 0.1694 - accuracy: 0.9379 - val_loss: 0.2732 - val_accuracy: 0.8845\n",
            "Epoch 187/200\n",
            "95/95 [==============================] - 10s 110ms/step - loss: 0.1598 - accuracy: 0.9400 - val_loss: 0.2693 - val_accuracy: 0.8911\n",
            "Epoch 188/200\n",
            "95/95 [==============================] - 10s 110ms/step - loss: 0.1637 - accuracy: 0.9390 - val_loss: 0.2681 - val_accuracy: 0.8871\n",
            "Epoch 189/200\n",
            "95/95 [==============================] - 10s 110ms/step - loss: 0.1655 - accuracy: 0.9329 - val_loss: 0.2685 - val_accuracy: 0.8911\n",
            "Epoch 190/200\n",
            "95/95 [==============================] - 10s 110ms/step - loss: 0.1678 - accuracy: 0.9374 - val_loss: 0.2700 - val_accuracy: 0.8845\n",
            "Epoch 191/200\n",
            "95/95 [==============================] - 10s 110ms/step - loss: 0.1639 - accuracy: 0.9336 - val_loss: 0.2677 - val_accuracy: 0.8858\n",
            "Epoch 192/200\n",
            "95/95 [==============================] - 10s 110ms/step - loss: 0.1733 - accuracy: 0.9363 - val_loss: 0.2679 - val_accuracy: 0.8831\n",
            "Epoch 193/200\n",
            "95/95 [==============================] - 10s 110ms/step - loss: 0.1589 - accuracy: 0.9431 - val_loss: 0.2678 - val_accuracy: 0.8898\n",
            "Epoch 194/200\n",
            "95/95 [==============================] - 10s 110ms/step - loss: 0.1740 - accuracy: 0.9324 - val_loss: 0.2688 - val_accuracy: 0.8884\n",
            "Epoch 195/200\n",
            "95/95 [==============================] - 10s 110ms/step - loss: 0.1776 - accuracy: 0.9411 - val_loss: 0.2674 - val_accuracy: 0.8898\n",
            "Epoch 196/200\n",
            "95/95 [==============================] - 10s 110ms/step - loss: 0.1754 - accuracy: 0.9367 - val_loss: 0.2709 - val_accuracy: 0.8884\n",
            "Epoch 197/200\n",
            "95/95 [==============================] - 10s 110ms/step - loss: 0.1618 - accuracy: 0.9454 - val_loss: 0.2670 - val_accuracy: 0.8884\n",
            "Epoch 198/200\n",
            "95/95 [==============================] - 10s 110ms/step - loss: 0.1584 - accuracy: 0.9414 - val_loss: 0.2668 - val_accuracy: 0.8884\n",
            "Epoch 199/200\n",
            "95/95 [==============================] - 10s 110ms/step - loss: 0.1584 - accuracy: 0.9416 - val_loss: 0.2666 - val_accuracy: 0.8858\n",
            "Epoch 200/200\n",
            "95/95 [==============================] - 10s 110ms/step - loss: 0.1576 - accuracy: 0.9454 - val_loss: 0.2680 - val_accuracy: 0.8898\n"
          ],
          "name": "stdout"
        },
        {
          "output_type": "stream",
          "text": [
            "/usr/local/lib/python3.7/dist-packages/keras/utils/generic_utils.py:497: CustomMaskWarning: Custom mask layers require a config and must override get_config. When loading, the custom mask layer must be passed to the custom_objects argument.\n",
            "  category=CustomMaskWarning)\n"
          ],
          "name": "stderr"
        },
        {
          "output_type": "stream",
          "text": [
            "Saved model to disk\n"
          ],
          "name": "stdout"
        }
      ]
    },
    {
      "cell_type": "code",
      "metadata": {
        "colab": {
          "base_uri": "https://localhost:8080/",
          "height": 573
        },
        "id": "DBFdhnNxpUQG",
        "outputId": "ffda8143-36c1-4e91-8216-de460e266262"
      },
      "source": [
        "plt.plot(history.history['accuracy'])\n",
        "plt.plot(history.history['val_accuracy'])\n",
        "plt.title('model accuracy')\n",
        "plt.ylabel('accuracy')\n",
        "plt.xlabel('epoch')\n",
        "plt.legend(['train', 'test'], loc='lower right')\n",
        "plt.show()\n",
        "\n",
        "plt.plot(history.history['loss'])\n",
        "plt.plot(history.history['val_loss'])\n",
        "plt.title('model loss')\n",
        "plt.ylabel('loss')\n",
        "plt.xlabel('epoch')\n",
        "plt.legend(['train', 'test'], loc='lower right')\n",
        "plt.show()"
      ],
      "execution_count": null,
      "outputs": [
        {
          "output_type": "display_data",
          "data": {
            "image/png": "[encoded data removed]",
            "text/plain": [
              "<Figure size 432x288 with 1 Axes>"
            ]
          },
          "metadata": {
            "tags": [],
            "needs_background": "light"
          }
        },
        {
          "output_type": "display_data",
          "data": {
            "image/png": "[encoded data removed]",
            "text/plain": [
              "<Figure size 432x288 with 1 Axes>"
            ]
          },
          "metadata": {
            "tags": [],
            "needs_background": "light"
          }
        }
      ]
    },
    {
      "cell_type": "code",
      "metadata": {
        "colab": {
          "base_uri": "https://localhost:8080/"
        },
        "id": "RBWOyNCHpeAy",
        "outputId": "bd562ac3-9dee-4e5e-bde3-f505ac7410ea"
      },
      "source": [
        "pretrained_cnn = keras.models.load_model('./resnet_model_brain.h5')\n",
        "\n",
        "# evaluate model on holdout set\n",
        "eval_score = pretrained_cnn.evaluate(X_test,y_test)\n",
        "# print loss score\n",
        "print('Eval loss:',eval_score[0])\n",
        "# print accuracy score\n",
        "print('Eval accuracy:',eval_score[1] )"
      ],
      "execution_count": null,
      "outputs": [
        {
          "output_type": "stream",
          "text": [
            "24/24 [==============================] - 6s 87ms/step - loss: 0.2680 - accuracy: 0.8898\n",
            "Eval loss: 0.2679595351219177\n",
            "Eval accuracy: 0.8897742629051208\n"
          ],
          "name": "stdout"
        }
      ]
    },
    {
      "cell_type": "code",
      "metadata": {
        "colab": {
          "base_uri": "https://localhost:8080/"
        },
        "id": "v4pexeH8pmxQ",
        "outputId": "5eaf5089-390a-4b55-e371-b5d253bb3f09"
      },
      "source": [
        "y_pred = pretrained_cnn.predict_classes(X_test)"
      ],
      "execution_count": null,
      "outputs": [
        {
          "output_type": "stream",
          "text": [
            "/usr/local/lib/python3.7/dist-packages/keras/engine/sequential.py:450: UserWarning: `model.predict_classes()` is deprecated and will be removed after 2021-01-01. Please use instead:* `np.argmax(model.predict(x), axis=-1)`,   if your model does multi-class classification   (e.g. if it uses a `softmax` last-layer activation).* `(model.predict(x) > 0.5).astype(\"int32\")`,   if your model does binary classification   (e.g. if it uses a `sigmoid` last-layer activation).\n",
            "  warnings.warn('`model.predict_classes()` is deprecated and '\n"
          ],
          "name": "stderr"
        }
      ]
    },
    {
      "cell_type": "code",
      "metadata": {
        "colab": {
          "base_uri": "https://localhost:8080/"
        },
        "id": "_Fk0E4_kptj2",
        "outputId": "44454cb1-fd1b-4222-a775-3b206b9ba928"
      },
      "source": [
        "from sklearn.metrics import confusion_matrix , classification_report\n",
        "target_classes = ['No Tumor','Tumor']\n",
        "classification_report(y_test , y_pred , output_dict = True\n",
        "                      , target_names=target_classes)"
      ],
      "execution_count": null,
      "outputs": [
        {
          "output_type": "execute_result",
          "data": {
            "text/plain": [
              "{'No Tumor': {'f1-score': 0.8991494532199272,\n",
              "  'precision': 0.8747044917257684,\n",
              "  'recall': 0.925,\n",
              "  'support': 400},\n",
              " 'Tumor': {'f1-score': 0.8784773060029282,\n",
              "  'precision': 0.9090909090909091,\n",
              "  'recall': 0.8498583569405099,\n",
              "  'support': 353},\n",
              " 'accuracy': 0.8897742363877822,\n",
              " 'macro avg': {'f1-score': 0.8888133796114277,\n",
              "  'precision': 0.8918977004083387,\n",
              "  'recall': 0.887429178470255,\n",
              "  'support': 753},\n",
              " 'weighted avg': {'f1-score': 0.8894585263041229,\n",
              "  'precision': 0.8908245519248317,\n",
              "  'recall': 0.8897742363877822,\n",
              "  'support': 753}}"
            ]
          },
          "metadata": {
            "tags": []
          },
          "execution_count": 24
        }
      ]
    },
    {
      "cell_type": "code",
      "metadata": {
        "colab": {
          "base_uri": "https://localhost:8080/"
        },
        "id": "CEICs-BlpvAX",
        "outputId": "6734308d-a4e3-43f6-9d77-7755c3f67e40"
      },
      "source": [
        "confusion_matrix(y_test , y_pred )"
      ],
      "execution_count": null,
      "outputs": [
        {
          "output_type": "execute_result",
          "data": {
            "text/plain": [
              "array([[383,  17],\n",
              "       [ 53, 300]])"
            ]
          },
          "metadata": {
            "tags": []
          },
          "execution_count": 27
        }
      ]
    }
  ]
}