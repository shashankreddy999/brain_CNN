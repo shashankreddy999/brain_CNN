{
  "cells": [
    {
      "cell_type": "code",
      "execution_count": null,
      "metadata": {
        "colab": {
          "base_uri": "https://localhost:8080/"
        },
        "id": "4CopMgSgNzIi",
        "outputId": "3150aeae-65a4-423d-f407-dfddd68d7397"
      },
      "outputs": [
        {
          "name": "stdout",
          "output_type": "stream",
          "text": [
            "Mon Jul 26 05:45:15 2021       \n",
            "+-----------------------------------------------------------------------------+\n",
            "| NVIDIA-SMI 470.42.01    Driver Version: 460.32.03    CUDA Version: 11.2     |\n",
            "|-------------------------------+----------------------+----------------------+\n",
            "| GPU  Name        Persistence-M| Bus-Id        Disp.A | Volatile Uncorr. ECC |\n",
            "| Fan  Temp  Perf  Pwr:Usage/Cap|         Memory-Usage | GPU-Util  Compute M. |\n",
            "|                               |                      |               MIG M. |\n",
            "|===============================+======================+======================|\n",
            "|   0  Tesla T4            Off  | 00000000:00:04.0 Off |                    0 |\n",
            "| N/A   43C    P8     9W /  70W |      0MiB / 15109MiB |      0%      Default |\n",
            "|                               |                      |                  N/A |\n",
            "+-------------------------------+----------------------+----------------------+\n",
            "                                                                               \n",
            "+-----------------------------------------------------------------------------+\n",
            "| Processes:                                                                  |\n",
            "|  GPU   GI   CI        PID   Type   Process name                  GPU Memory |\n",
            "|        ID   ID                                                   Usage      |\n",
            "|=============================================================================|\n",
            "|  No running processes found                                                 |\n",
            "+-----------------------------------------------------------------------------+\n"
          ]
        }
      ],
      "source": [
        "!nvidia-smi"
      ]
    },
    {
      "cell_type": "code",
      "execution_count": null,
      "metadata": {
        "id": "yNWzjJX4OJ8_"
      },
      "outputs": [],
      "source": [
        "# This Python 3 environment comes with many helpful analytics libraries installed\n",
        "# It is defined by the kaggle/python Docker image: https://github.com/kaggle/docker-python\n",
        "# For example, here's several helpful packages to load\n",
        "\n",
        "import numpy as np # linear algebra\n",
        "import pandas as pd # data processing, CSV file I/O (e.g. pd.read_csv)\n",
        "\n",
        "# Input data files are available in the read-only \"../input/\" directory\n",
        "# For example, running this (by clicking run or pressing Shift+Enter) will list all files under the input directory\n",
        "\n",
        "import os\n",
        "# for dirname, _, filenames in os.walk('/kaggle/input'):\n",
        "#     for filename in filenames:\n",
        "#         os.path.join(dirname, filename)\n",
        "\n",
        "# You can write up to 20GB to the current directory (/kaggle/working/) that gets preserved as output when you create a version using \"Save & Run All\" \n",
        "# You can also write temporary files to /kaggle/temp/, but they won't be saved outside of the current session"
      ]
    },
    {
      "cell_type": "code",
      "execution_count": null,
      "metadata": {
        "id": "u1-x-CPjORbO"
      },
      "outputs": [],
      "source": [
        "import matplotlib.pyplot as plt\n",
        "import seaborn as sns\n",
        "from skimage.io import imread\n",
        "from sklearn.model_selection import train_test_split\n",
        "import keras\n",
        "from keras import Sequential\n",
        "from keras.applications import vgg16\n",
        "from keras.layers import Dense\n",
        "from keras.preprocessing import image"
      ]
    },
    {
      "cell_type": "code",
      "execution_count": null,
      "metadata": {
        "colab": {
          "base_uri": "https://localhost:8080/",
          "height": 203
        },
        "id": "4tZsUjgpOplz",
        "outputId": "cfc71815-b2e0-40f3-ef42-a494d3abd2d9"
      },
      "outputs": [
        {
          "data": {
            "text/html": [
              "<div>\n",
              "<style scoped>\n",
              "    .dataframe tbody tr th:only-of-type {\n",
              "        vertical-align: middle;\n",
              "    }\n",
              "\n",
              "    .dataframe tbody tr th {\n",
              "        vertical-align: top;\n",
              "    }\n",
              "\n",
              "    .dataframe thead th {\n",
              "        text-align: right;\n",
              "    }\n",
              "</style>\n",
              "<table border=\"1\" class=\"dataframe\">\n",
              "  <thead>\n",
              "    <tr style=\"text-align: right;\">\n",
              "      <th></th>\n",
              "      <th>Image</th>\n",
              "      <th>Class</th>\n",
              "    </tr>\n",
              "  </thead>\n",
              "  <tbody>\n",
              "    <tr>\n",
              "      <th>0</th>\n",
              "      <td>Image1</td>\n",
              "      <td>0</td>\n",
              "    </tr>\n",
              "    <tr>\n",
              "      <th>1</th>\n",
              "      <td>Image2</td>\n",
              "      <td>0</td>\n",
              "    </tr>\n",
              "    <tr>\n",
              "      <th>2</th>\n",
              "      <td>Image3</td>\n",
              "      <td>1</td>\n",
              "    </tr>\n",
              "    <tr>\n",
              "      <th>3</th>\n",
              "      <td>Image4</td>\n",
              "      <td>1</td>\n",
              "    </tr>\n",
              "    <tr>\n",
              "      <th>4</th>\n",
              "      <td>Image5</td>\n",
              "      <td>0</td>\n",
              "    </tr>\n",
              "  </tbody>\n",
              "</table>\n",
              "</div>"
            ],
            "text/plain": [
              "    Image  Class\n",
              "0  Image1      0\n",
              "1  Image2      0\n",
              "2  Image3      1\n",
              "3  Image4      1\n",
              "4  Image5      0"
            ]
          },
          "execution_count": 4,
          "metadata": {
            "tags": []
          },
          "output_type": "execute_result"
        }
      ],
      "source": [
        "brain_df = pd.read_csv('/content/drive/MyDrive/brain tumor/Brain Tumor.csv',usecols=[0,1])\n",
        "brain_df.head()"
      ]
    },
    {
      "cell_type": "code",
      "execution_count": null,
      "metadata": {
        "colab": {
          "base_uri": "https://localhost:8080/",
          "height": 352
        },
        "id": "ma3dxDXUO6pg",
        "outputId": "d5dcc147-3415-4669-c974-afe3af32c6fe"
      },
      "outputs": [
        {
          "name": "stderr",
          "output_type": "stream",
          "text": [
            "/usr/local/lib/python3.7/dist-packages/seaborn/_decorators.py:43: FutureWarning: Pass the following variable as a keyword arg: x. From version 0.12, the only valid positional argument will be `data`, and passing other arguments without an explicit keyword will result in an error or misinterpretation.\n",
            "  FutureWarning\n"
          ]
        },
        {
          "data": {
            "text/plain": [
              "<matplotlib.axes._subplots.AxesSubplot at 0x7f94328729d0>"
            ]
          },
          "execution_count": 5,
          "metadata": {
            "tags": []
          },
          "output_type": "execute_result"
        },
        {
          "data": {
            "image/png": "[encoded data removed]",
            "text/plain": [
              "<Figure size 432x288 with 1 Axes>"
            ]
          },
          "metadata": {
            "needs_background": "light",
            "tags": []
          },
          "output_type": "display_data"
        }
      ],
      "source": [
        "sns.countplot(brain_df['Class'])"
      ]
    },
    {
      "cell_type": "code",
      "execution_count": null,
      "metadata": {
        "id": "Mxaf7wUtO9ui"
      },
      "outputs": [],
      "source": [
        "path_list = []\n",
        "base_path = '/content/drive/MyDrive/brain tumor/Brain Tumor/Brain Tumor'\n",
        "for entry in os.listdir(base_path):\n",
        "    path_list.append( os.path.join(base_path,entry))"
      ]
    },
    {
      "cell_type": "code",
      "execution_count": null,
      "metadata": {
        "id": "TjNnM7nSPNuN"
      },
      "outputs": [],
      "source": [
        "pathes_dict={os.path.splitext(os.path.basename(x))[0]: x for x in path_list}\n",
        "brain_df['pathes'] = brain_df['Image'].map(pathes_dict.get)"
      ]
    },
    {
      "cell_type": "code",
      "execution_count": null,
      "metadata": {
        "colab": {
          "base_uri": "https://localhost:8080/",
          "height": 203
        },
        "id": "gfdZWuIBPRjA",
        "outputId": "8867b5e4-b5f4-4d5d-e6d4-112a5d5d6ee9"
      },
      "outputs": [
        {
          "data": {
            "text/html": [
              "<div>\n",
              "<style scoped>\n",
              "    .dataframe tbody tr th:only-of-type {\n",
              "        vertical-align: middle;\n",
              "    }\n",
              "\n",
              "    .dataframe tbody tr th {\n",
              "        vertical-align: top;\n",
              "    }\n",
              "\n",
              "    .dataframe thead th {\n",
              "        text-align: right;\n",
              "    }\n",
              "</style>\n",
              "<table border=\"1\" class=\"dataframe\">\n",
              "  <thead>\n",
              "    <tr style=\"text-align: right;\">\n",
              "      <th></th>\n",
              "      <th>Image</th>\n",
              "      <th>Class</th>\n",
              "      <th>pathes</th>\n",
              "    </tr>\n",
              "  </thead>\n",
              "  <tbody>\n",
              "    <tr>\n",
              "      <th>0</th>\n",
              "      <td>Image1</td>\n",
              "      <td>0</td>\n",
              "      <td>/content/drive/MyDrive/brain tumor/Brain Tumor...</td>\n",
              "    </tr>\n",
              "    <tr>\n",
              "      <th>1</th>\n",
              "      <td>Image2</td>\n",
              "      <td>0</td>\n",
              "      <td>/content/drive/MyDrive/brain tumor/Brain Tumor...</td>\n",
              "    </tr>\n",
              "    <tr>\n",
              "      <th>2</th>\n",
              "      <td>Image3</td>\n",
              "      <td>1</td>\n",
              "      <td>/content/drive/MyDrive/brain tumor/Brain Tumor...</td>\n",
              "    </tr>\n",
              "    <tr>\n",
              "      <th>3</th>\n",
              "      <td>Image4</td>\n",
              "      <td>1</td>\n",
              "      <td>/content/drive/MyDrive/brain tumor/Brain Tumor...</td>\n",
              "    </tr>\n",
              "    <tr>\n",
              "      <th>4</th>\n",
              "      <td>Image5</td>\n",
              "      <td>0</td>\n",
              "      <td>/content/drive/MyDrive/brain tumor/Brain Tumor...</td>\n",
              "    </tr>\n",
              "  </tbody>\n",
              "</table>\n",
              "</div>"
            ],
            "text/plain": [
              "    Image  Class                                             pathes\n",
              "0  Image1      0  /content/drive/MyDrive/brain tumor/Brain Tumor...\n",
              "1  Image2      0  /content/drive/MyDrive/brain tumor/Brain Tumor...\n",
              "2  Image3      1  /content/drive/MyDrive/brain tumor/Brain Tumor...\n",
              "3  Image4      1  /content/drive/MyDrive/brain tumor/Brain Tumor...\n",
              "4  Image5      0  /content/drive/MyDrive/brain tumor/Brain Tumor..."
            ]
          },
          "execution_count": 8,
          "metadata": {
            "tags": []
          },
          "output_type": "execute_result"
        }
      ],
      "source": [
        "brain_df.head()"
      ]
    },
    {
      "cell_type": "code",
      "execution_count": null,
      "metadata": {
        "colab": {
          "base_uri": "https://localhost:8080/",
          "height": 269
        },
        "id": "_s0pfN8lPUdn",
        "outputId": "794f7be6-e0df-4507-ad10-ba60e8dcf982"
      },
      "outputs": [
        {
          "data": {
            "image/png": "[encoded data removed]",
            "text/plain": [
              "<Figure size 432x288 with 17 Axes>"
            ]
          },
          "metadata": {
            "needs_background": "light",
            "tags": []
          },
          "output_type": "display_data"
        }
      ],
      "source": [
        "for x in range (0 ,17):\n",
        "    img = imread(brain_df['pathes'][x])\n",
        "    plt.imshow(img)\n",
        "    plt.subplot(5,4,x+1)"
      ]
    },
    {
      "cell_type": "code",
      "execution_count": null,
      "metadata": {
        "id": "FdHUs3l6Pbfw"
      },
      "outputs": [],
      "source": [
        "from PIL.Image import open\n",
        "brain_df['pixels']=brain_df['pathes'].map(lambda x:  np.asarray(open(x).resize((224,224))))"
      ]
    },
    {
      "cell_type": "code",
      "execution_count": null,
      "metadata": {
        "colab": {
          "base_uri": "https://localhost:8080/"
        },
        "id": "IZ7ZghW4VJdd",
        "outputId": "6abd379d-8c92-4fc9-9d67-c58b620538bb"
      },
      "outputs": [
        {
          "data": {
            "text/plain": [
              "0       /content/drive/MyDrive/brain tumor/Brain Tumor...\n",
              "1       /content/drive/MyDrive/brain tumor/Brain Tumor...\n",
              "2       /content/drive/MyDrive/brain tumor/Brain Tumor...\n",
              "3       /content/drive/MyDrive/brain tumor/Brain Tumor...\n",
              "4       /content/drive/MyDrive/brain tumor/Brain Tumor...\n",
              "                              ...                        \n",
              "3757    /content/drive/MyDrive/brain tumor/Brain Tumor...\n",
              "3758    /content/drive/MyDrive/brain tumor/Brain Tumor...\n",
              "3759    /content/drive/MyDrive/brain tumor/Brain Tumor...\n",
              "3760    /content/drive/MyDrive/brain tumor/Brain Tumor...\n",
              "3761    /content/drive/MyDrive/brain tumor/Brain Tumor...\n",
              "Name: pathes, Length: 3762, dtype: object"
            ]
          },
          "execution_count": 19,
          "metadata": {
            "tags": []
          },
          "output_type": "execute_result"
        }
      ],
      "source": []
    },
    {
      "cell_type": "code",
      "execution_count": null,
      "metadata": {
        "colab": {
          "base_uri": "https://localhost:8080/",
          "height": 203
        },
        "id": "DZVigSYuVonM",
        "outputId": "79930102-2f99-4bc9-f184-7f878b477ba7"
      },
      "outputs": [
        {
          "data": {
            "text/html": [
              "<div>\n",
              "<style scoped>\n",
              "    .dataframe tbody tr th:only-of-type {\n",
              "        vertical-align: middle;\n",
              "    }\n",
              "\n",
              "    .dataframe tbody tr th {\n",
              "        vertical-align: top;\n",
              "    }\n",
              "\n",
              "    .dataframe thead th {\n",
              "        text-align: right;\n",
              "    }\n",
              "</style>\n",
              "<table border=\"1\" class=\"dataframe\">\n",
              "  <thead>\n",
              "    <tr style=\"text-align: right;\">\n",
              "      <th></th>\n",
              "      <th>Image</th>\n",
              "      <th>Class</th>\n",
              "      <th>pathes</th>\n",
              "      <th>pixels</th>\n",
              "    </tr>\n",
              "  </thead>\n",
              "  <tbody>\n",
              "    <tr>\n",
              "      <th>0</th>\n",
              "      <td>Image1</td>\n",
              "      <td>0</td>\n",
              "      <td>/content/drive/MyDrive/brain tumor/Brain Tumor...</td>\n",
              "      <td>[[[0, 0, 0], [0, 0, 0], [0, 0, 0], [0, 0, 0], ...</td>\n",
              "    </tr>\n",
              "    <tr>\n",
              "      <th>1</th>\n",
              "      <td>Image2</td>\n",
              "      <td>0</td>\n",
              "      <td>/content/drive/MyDrive/brain tumor/Brain Tumor...</td>\n",
              "      <td>[[[0, 0, 0], [0, 0, 0], [0, 0, 0], [0, 0, 0], ...</td>\n",
              "    </tr>\n",
              "    <tr>\n",
              "      <th>2</th>\n",
              "      <td>Image3</td>\n",
              "      <td>1</td>\n",
              "      <td>/content/drive/MyDrive/brain tumor/Brain Tumor...</td>\n",
              "      <td>[[[0, 0, 0], [0, 0, 0], [0, 0, 0], [0, 0, 0], ...</td>\n",
              "    </tr>\n",
              "    <tr>\n",
              "      <th>3</th>\n",
              "      <td>Image4</td>\n",
              "      <td>1</td>\n",
              "      <td>/content/drive/MyDrive/brain tumor/Brain Tumor...</td>\n",
              "      <td>[[[0, 0, 0], [0, 0, 0], [0, 0, 0], [0, 0, 0], ...</td>\n",
              "    </tr>\n",
              "    <tr>\n",
              "      <th>4</th>\n",
              "      <td>Image5</td>\n",
              "      <td>0</td>\n",
              "      <td>/content/drive/MyDrive/brain tumor/Brain Tumor...</td>\n",
              "      <td>[[[0, 0, 0], [0, 0, 0], [0, 0, 0], [0, 0, 0], ...</td>\n",
              "    </tr>\n",
              "  </tbody>\n",
              "</table>\n",
              "</div>"
            ],
            "text/plain": [
              "    Image  ...                                             pixels\n",
              "0  Image1  ...  [[[0, 0, 0], [0, 0, 0], [0, 0, 0], [0, 0, 0], ...\n",
              "1  Image2  ...  [[[0, 0, 0], [0, 0, 0], [0, 0, 0], [0, 0, 0], ...\n",
              "2  Image3  ...  [[[0, 0, 0], [0, 0, 0], [0, 0, 0], [0, 0, 0], ...\n",
              "3  Image4  ...  [[[0, 0, 0], [0, 0, 0], [0, 0, 0], [0, 0, 0], ...\n",
              "4  Image5  ...  [[[0, 0, 0], [0, 0, 0], [0, 0, 0], [0, 0, 0], ...\n",
              "\n",
              "[5 rows x 4 columns]"
            ]
          },
          "execution_count": 13,
          "metadata": {
            "tags": []
          },
          "output_type": "execute_result"
        }
      ],
      "source": [
        "brain_df.head()"
      ]
    },
    {
      "cell_type": "code",
      "execution_count": null,
      "metadata": {
        "colab": {
          "base_uri": "https://localhost:8080/"
        },
        "id": "3Kjtzoo6Vp64",
        "outputId": "615fd82b-fe47-4f0e-b3af-13f112f09a51"
      },
      "outputs": [
        {
          "name": "stdout",
          "output_type": "stream",
          "text": [
            "(3762, 224, 224, 3)\n"
          ]
        }
      ],
      "source": [
        "image_list = []\n",
        "for i in range(0,len(brain_df)):\n",
        "    # load image\n",
        "    brain_img = brain_df['pixels'][i].astype(np.float32)\n",
        "    img_array = image.img_to_array(brain_img)\n",
        "     # append to list of all images\n",
        "    image_list.append(keras.applications.vgg16.preprocess_input(img_array))\n",
        "    \n",
        "# convert image list to single array\n",
        "# Our feature\n",
        "X = np.array(image_list)\n",
        "\n",
        "# print shape of X\n",
        "print(X.shape)"
      ]
    },
    {
      "cell_type": "code",
      "execution_count": null,
      "metadata": {
        "id": "udt89Xj4dTvF"
      },
      "outputs": [],
      "source": [
        "y = np.array(brain_df.Class)"
      ]
    },
    {
      "cell_type": "code",
      "execution_count": null,
      "metadata": {
        "colab": {
          "base_uri": "https://localhost:8080/"
        },
        "id": "I0gs-NDvdWLW",
        "outputId": "f013d9a5-fe4a-4fc7-9fac-20fcb53cc852"
      },
      "outputs": [
        {
          "data": {
            "text/plain": [
              "array([0, 0, 1, ..., 0, 0, 0])"
            ]
          },
          "execution_count": 16,
          "metadata": {
            "tags": []
          },
          "output_type": "execute_result"
        }
      ],
      "source": [
        "y"
      ]
    },
    {
      "cell_type": "code",
      "execution_count": null,
      "metadata": {
        "colab": {
          "base_uri": "https://localhost:8080/"
        },
        "id": "Aw2QPr9idZW0",
        "outputId": "9fd9b7dd-649e-416c-c1ce-9ab43935162f"
      },
      "outputs": [
        {
          "name": "stdout",
          "output_type": "stream",
          "text": [
            "The shape of the X_train : (3009, 224, 224, 3)\n",
            "The size of the X_train : 3009\n",
            "The shape of the X_test : (753, 224, 224, 3)\n",
            "The size of the X_test: 753\n"
          ]
        }
      ],
      "source": [
        "X_train,X_test,y_train,y_test = train_test_split(X,y\n",
        "                                                 ,test_size=0.2\n",
        "                                                ,random_state=0)\n",
        "\n",
        "\n",
        "print('The shape of the X_train :'+' '+str(X_train.shape))\n",
        "print('The size of the X_train :'+' '+str(X_train.shape[0]))\n",
        "print('The shape of the X_test :'+' '+str(X_test.shape))\n",
        "print('The size of the X_test:'+' '+str(X_test.shape[0]))"
      ]
    },
    {
      "cell_type": "code",
      "execution_count": null,
      "metadata": {
        "colab": {
          "base_uri": "https://localhost:8080/"
        },
        "id": "jpZDo2zrddyO",
        "outputId": "75a47a66-de19-4cd1-d76d-5e3d77613ff3"
      },
      "outputs": [
        {
          "name": "stdout",
          "output_type": "stream",
          "text": [
            "Downloading data from https://storage.googleapis.com/tensorflow/keras-applications/vgg16/vgg16_weights_tf_dim_ordering_tf_kernels_notop.h5\n",
            "58892288/58889256 [==============================] - 0s 0us/step\n",
            "58900480/58889256 [==============================] - 0s 0us/step\n",
            "Model: \"sequential_2\"\n",
            "_________________________________________________________________\n",
            "Layer (type)                 Output Shape              Param #   \n",
            "=================================================================\n",
            "vgg16 (Functional)           (None, 7, 7, 512)         14714688  \n",
            "_________________________________________________________________\n",
            "global_average_pooling2d (Gl (None, 512)               0         \n",
            "_________________________________________________________________\n",
            "preds (Dense)                (None, 1)                 513       \n",
            "=================================================================\n",
            "Total params: 14,715,201\n",
            "Trainable params: 513\n",
            "Non-trainable params: 14,714,688\n",
            "_________________________________________________________________\n"
          ]
        }
      ],
      "source": [
        "num_classes = 1\n",
        "model = Sequential()\n",
        "model.add(vgg16.VGG16(input_shape=(224, 224, 3),weights=\"imagenet\"\n",
        "                             ,include_top=False))\n",
        "model.add(keras.layers.GlobalAveragePooling2D())\n",
        "model.add( Dense(num_classes, activation='sigmoid',name='preds'))\n",
        "model.layers[0].trainable= False\n",
        "# show model summary\n",
        "model.summary()"
      ]
    },
    {
      "cell_type": "code",
      "execution_count": null,
      "metadata": {
        "colab": {
          "base_uri": "https://localhost:8080/"
        },
        "id": "9WZTrYpgduQT",
        "outputId": "bc5f427a-b6d7-4ec5-d7c3-5ff39987f122"
      },
      "outputs": [
        {
          "name": "stderr",
          "output_type": "stream",
          "text": [
            "/usr/local/lib/python3.7/dist-packages/tensorflow/python/keras/optimizer_v2/optimizer_v2.py:375: UserWarning: The `lr` argument is deprecated, use `learning_rate` instead.\n",
            "  \"The `lr` argument is deprecated, use `learning_rate` instead.\")\n"
          ]
        },
        {
          "name": "stdout",
          "output_type": "stream",
          "text": [
            "Epoch 1/200\n",
            "95/95 - 69s - loss: 0.7071 - accuracy: 0.6776 - val_loss: 0.9474 - val_accuracy: 0.6082\n",
            "Epoch 2/200\n",
            "95/95 - 13s - loss: 0.5558 - accuracy: 0.7448 - val_loss: 0.5183 - val_accuracy: 0.7530\n",
            "Epoch 3/200\n",
            "95/95 - 13s - loss: 0.4935 - accuracy: 0.7723 - val_loss: 0.5101 - val_accuracy: 0.7649\n",
            "Epoch 4/200\n",
            "95/95 - 14s - loss: 0.4582 - accuracy: 0.7920 - val_loss: 0.4890 - val_accuracy: 0.7862\n",
            "Epoch 5/200\n",
            "95/95 - 14s - loss: 0.4302 - accuracy: 0.8116 - val_loss: 0.4522 - val_accuracy: 0.8074\n",
            "Epoch 6/200\n",
            "95/95 - 14s - loss: 0.4087 - accuracy: 0.8185 - val_loss: 0.4188 - val_accuracy: 0.8021\n",
            "Epoch 7/200\n",
            "95/95 - 14s - loss: 0.3913 - accuracy: 0.8285 - val_loss: 0.5634 - val_accuracy: 0.7676\n",
            "Epoch 8/200\n",
            "95/95 - 14s - loss: 0.3810 - accuracy: 0.8312 - val_loss: 0.4002 - val_accuracy: 0.8088\n",
            "Epoch 9/200\n",
            "95/95 - 14s - loss: 0.3668 - accuracy: 0.8398 - val_loss: 0.5260 - val_accuracy: 0.7649\n",
            "Epoch 10/200\n",
            "95/95 - 14s - loss: 0.3601 - accuracy: 0.8475 - val_loss: 0.3722 - val_accuracy: 0.8300\n",
            "Epoch 11/200\n",
            "95/95 - 14s - loss: 0.3499 - accuracy: 0.8514 - val_loss: 0.3653 - val_accuracy: 0.8380\n",
            "Epoch 12/200\n",
            "95/95 - 14s - loss: 0.3397 - accuracy: 0.8591 - val_loss: 0.3585 - val_accuracy: 0.8393\n",
            "Epoch 13/200\n",
            "95/95 - 14s - loss: 0.3326 - accuracy: 0.8651 - val_loss: 0.3572 - val_accuracy: 0.8380\n",
            "Epoch 14/200\n",
            "95/95 - 14s - loss: 0.3277 - accuracy: 0.8654 - val_loss: 0.3529 - val_accuracy: 0.8446\n",
            "Epoch 15/200\n",
            "95/95 - 14s - loss: 0.3214 - accuracy: 0.8651 - val_loss: 0.3468 - val_accuracy: 0.8459\n",
            "Epoch 16/200\n",
            "95/95 - 14s - loss: 0.3180 - accuracy: 0.8674 - val_loss: 0.3379 - val_accuracy: 0.8552\n",
            "Epoch 17/200\n",
            "95/95 - 14s - loss: 0.3108 - accuracy: 0.8734 - val_loss: 0.3430 - val_accuracy: 0.8420\n",
            "Epoch 18/200\n",
            "95/95 - 14s - loss: 0.3075 - accuracy: 0.8704 - val_loss: 0.3329 - val_accuracy: 0.8566\n",
            "Epoch 19/200\n",
            "95/95 - 14s - loss: 0.3017 - accuracy: 0.8777 - val_loss: 0.3385 - val_accuracy: 0.8513\n",
            "Epoch 20/200\n",
            "95/95 - 14s - loss: 0.3000 - accuracy: 0.8754 - val_loss: 0.3254 - val_accuracy: 0.8645\n",
            "Epoch 21/200\n",
            "95/95 - 14s - loss: 0.2955 - accuracy: 0.8794 - val_loss: 0.3209 - val_accuracy: 0.8645\n",
            "Epoch 22/200\n",
            "95/95 - 14s - loss: 0.2927 - accuracy: 0.8790 - val_loss: 0.4534 - val_accuracy: 0.7942\n",
            "Epoch 23/200\n",
            "95/95 - 14s - loss: 0.2941 - accuracy: 0.8797 - val_loss: 0.3151 - val_accuracy: 0.8699\n",
            "Epoch 24/200\n",
            "95/95 - 14s - loss: 0.2866 - accuracy: 0.8824 - val_loss: 0.3326 - val_accuracy: 0.8672\n",
            "Epoch 25/200\n",
            "95/95 - 14s - loss: 0.2824 - accuracy: 0.8863 - val_loss: 0.3089 - val_accuracy: 0.8752\n",
            "Epoch 26/200\n",
            "95/95 - 14s - loss: 0.2796 - accuracy: 0.8893 - val_loss: 0.3284 - val_accuracy: 0.8645\n",
            "Epoch 27/200\n",
            "95/95 - 14s - loss: 0.2796 - accuracy: 0.8870 - val_loss: 0.5476 - val_accuracy: 0.7596\n",
            "Epoch 28/200\n",
            "95/95 - 14s - loss: 0.2838 - accuracy: 0.8833 - val_loss: 0.3046 - val_accuracy: 0.8792\n",
            "Epoch 29/200\n",
            "95/95 - 14s - loss: 0.2729 - accuracy: 0.8937 - val_loss: 0.3199 - val_accuracy: 0.8579\n",
            "Epoch 30/200\n",
            "95/95 - 14s - loss: 0.2717 - accuracy: 0.8927 - val_loss: 0.2996 - val_accuracy: 0.8818\n",
            "Epoch 31/200\n",
            "95/95 - 14s - loss: 0.2688 - accuracy: 0.8943 - val_loss: 0.3077 - val_accuracy: 0.8645\n",
            "Epoch 32/200\n",
            "95/95 - 14s - loss: 0.2672 - accuracy: 0.8940 - val_loss: 0.3011 - val_accuracy: 0.8659\n",
            "Epoch 33/200\n",
            "95/95 - 14s - loss: 0.2644 - accuracy: 0.8930 - val_loss: 0.3707 - val_accuracy: 0.8367\n",
            "Epoch 34/200\n",
            "95/95 - 14s - loss: 0.2661 - accuracy: 0.8960 - val_loss: 0.2934 - val_accuracy: 0.8831\n",
            "Epoch 35/200\n",
            "95/95 - 14s - loss: 0.2613 - accuracy: 0.8980 - val_loss: 0.2958 - val_accuracy: 0.8765\n",
            "Epoch 36/200\n",
            "95/95 - 14s - loss: 0.2592 - accuracy: 0.9013 - val_loss: 0.3937 - val_accuracy: 0.8274\n",
            "Epoch 37/200\n",
            "95/95 - 14s - loss: 0.2601 - accuracy: 0.8976 - val_loss: 0.2892 - val_accuracy: 0.8924\n",
            "Epoch 38/200\n",
            "95/95 - 14s - loss: 0.2564 - accuracy: 0.9013 - val_loss: 0.2877 - val_accuracy: 0.8871\n",
            "Epoch 39/200\n",
            "95/95 - 14s - loss: 0.2542 - accuracy: 0.9023 - val_loss: 0.2869 - val_accuracy: 0.8924\n",
            "Epoch 40/200\n",
            "95/95 - 14s - loss: 0.2524 - accuracy: 0.9016 - val_loss: 0.2862 - val_accuracy: 0.8831\n",
            "Epoch 41/200\n",
            "95/95 - 14s - loss: 0.2514 - accuracy: 0.9040 - val_loss: 0.2849 - val_accuracy: 0.8938\n",
            "Epoch 42/200\n",
            "95/95 - 14s - loss: 0.2497 - accuracy: 0.9016 - val_loss: 0.2884 - val_accuracy: 0.8792\n",
            "Epoch 43/200\n",
            "95/95 - 14s - loss: 0.2485 - accuracy: 0.9026 - val_loss: 0.2863 - val_accuracy: 0.8805\n",
            "Epoch 44/200\n",
            "95/95 - 14s - loss: 0.2471 - accuracy: 0.9056 - val_loss: 0.4118 - val_accuracy: 0.8207\n",
            "Epoch 45/200\n",
            "95/95 - 14s - loss: 0.2506 - accuracy: 0.8986 - val_loss: 0.2808 - val_accuracy: 0.8898\n",
            "Epoch 46/200\n",
            "95/95 - 14s - loss: 0.2440 - accuracy: 0.9059 - val_loss: 0.2798 - val_accuracy: 0.8911\n",
            "Epoch 47/200\n",
            "95/95 - 14s - loss: 0.2428 - accuracy: 0.9040 - val_loss: 0.2780 - val_accuracy: 0.8938\n",
            "Epoch 48/200\n",
            "95/95 - 14s - loss: 0.2419 - accuracy: 0.9056 - val_loss: 0.2780 - val_accuracy: 0.8911\n",
            "Epoch 49/200\n",
            "95/95 - 14s - loss: 0.2411 - accuracy: 0.9056 - val_loss: 0.2771 - val_accuracy: 0.8871\n",
            "Epoch 50/200\n",
            "95/95 - 14s - loss: 0.2398 - accuracy: 0.9099 - val_loss: 0.2850 - val_accuracy: 0.8871\n",
            "Epoch 51/200\n",
            "95/95 - 14s - loss: 0.2385 - accuracy: 0.9076 - val_loss: 0.2782 - val_accuracy: 0.8858\n",
            "Epoch 52/200\n",
            "95/95 - 14s - loss: 0.2368 - accuracy: 0.9079 - val_loss: 0.2782 - val_accuracy: 0.8898\n",
            "Epoch 53/200\n",
            "95/95 - 14s - loss: 0.2375 - accuracy: 0.9089 - val_loss: 0.2740 - val_accuracy: 0.8911\n",
            "Epoch 54/200\n",
            "95/95 - 14s - loss: 0.2354 - accuracy: 0.9099 - val_loss: 0.2725 - val_accuracy: 0.8964\n",
            "Epoch 55/200\n",
            "95/95 - 14s - loss: 0.2345 - accuracy: 0.9083 - val_loss: 0.2756 - val_accuracy: 0.8898\n",
            "Epoch 56/200\n",
            "95/95 - 14s - loss: 0.2326 - accuracy: 0.9109 - val_loss: 0.2737 - val_accuracy: 0.8898\n",
            "Epoch 57/200\n",
            "95/95 - 14s - loss: 0.2320 - accuracy: 0.9119 - val_loss: 0.2974 - val_accuracy: 0.8712\n",
            "Epoch 58/200\n",
            "95/95 - 14s - loss: 0.2318 - accuracy: 0.9119 - val_loss: 0.2714 - val_accuracy: 0.8898\n",
            "Epoch 59/200\n",
            "95/95 - 14s - loss: 0.2312 - accuracy: 0.9133 - val_loss: 0.4430 - val_accuracy: 0.8021\n",
            "Epoch 60/200\n",
            "95/95 - 14s - loss: 0.2332 - accuracy: 0.9119 - val_loss: 0.2674 - val_accuracy: 0.8938\n",
            "Epoch 61/200\n",
            "95/95 - 14s - loss: 0.2296 - accuracy: 0.9119 - val_loss: 0.2889 - val_accuracy: 0.8831\n",
            "Epoch 62/200\n",
            "95/95 - 14s - loss: 0.2288 - accuracy: 0.9109 - val_loss: 0.2668 - val_accuracy: 0.9004\n",
            "Epoch 63/200\n",
            "95/95 - 14s - loss: 0.2275 - accuracy: 0.9143 - val_loss: 0.4164 - val_accuracy: 0.8167\n",
            "Epoch 64/200\n",
            "95/95 - 14s - loss: 0.2326 - accuracy: 0.9089 - val_loss: 0.2650 - val_accuracy: 0.9004\n",
            "Epoch 65/200\n",
            "95/95 - 14s - loss: 0.2256 - accuracy: 0.9116 - val_loss: 0.2727 - val_accuracy: 0.8898\n",
            "Epoch 66/200\n",
            "95/95 - 14s - loss: 0.2254 - accuracy: 0.9156 - val_loss: 0.2649 - val_accuracy: 0.8938\n",
            "Epoch 67/200\n",
            "95/95 - 14s - loss: 0.2243 - accuracy: 0.9153 - val_loss: 0.2671 - val_accuracy: 0.9004\n",
            "Epoch 68/200\n",
            "95/95 - 14s - loss: 0.2235 - accuracy: 0.9136 - val_loss: 0.2635 - val_accuracy: 0.8964\n",
            "Epoch 69/200\n",
            "95/95 - 14s - loss: 0.2226 - accuracy: 0.9172 - val_loss: 0.2713 - val_accuracy: 0.8964\n",
            "Epoch 70/200\n",
            "95/95 - 14s - loss: 0.2227 - accuracy: 0.9182 - val_loss: 0.2636 - val_accuracy: 0.8911\n",
            "Epoch 71/200\n",
            "95/95 - 14s - loss: 0.2217 - accuracy: 0.9163 - val_loss: 0.2643 - val_accuracy: 0.9017\n",
            "Epoch 72/200\n",
            "95/95 - 14s - loss: 0.2204 - accuracy: 0.9163 - val_loss: 0.2667 - val_accuracy: 0.8964\n",
            "Epoch 73/200\n",
            "95/95 - 14s - loss: 0.2209 - accuracy: 0.9189 - val_loss: 0.2763 - val_accuracy: 0.8858\n",
            "Epoch 74/200\n",
            "95/95 - 14s - loss: 0.2198 - accuracy: 0.9156 - val_loss: 0.2600 - val_accuracy: 0.8977\n",
            "Epoch 75/200\n",
            "95/95 - 14s - loss: 0.2192 - accuracy: 0.9186 - val_loss: 0.2680 - val_accuracy: 0.8911\n",
            "Epoch 76/200\n",
            "95/95 - 14s - loss: 0.2192 - accuracy: 0.9182 - val_loss: 0.2825 - val_accuracy: 0.8898\n",
            "Epoch 77/200\n",
            "95/95 - 14s - loss: 0.2192 - accuracy: 0.9169 - val_loss: 0.2923 - val_accuracy: 0.8805\n",
            "Epoch 78/200\n",
            "95/95 - 14s - loss: 0.2177 - accuracy: 0.9189 - val_loss: 0.2679 - val_accuracy: 0.8977\n",
            "Epoch 79/200\n",
            "95/95 - 14s - loss: 0.2174 - accuracy: 0.9202 - val_loss: 0.2583 - val_accuracy: 0.8977\n",
            "Epoch 80/200\n",
            "95/95 - 14s - loss: 0.2156 - accuracy: 0.9202 - val_loss: 0.2594 - val_accuracy: 0.8964\n",
            "Epoch 81/200\n",
            "95/95 - 14s - loss: 0.2156 - accuracy: 0.9186 - val_loss: 0.2576 - val_accuracy: 0.8977\n",
            "Epoch 82/200\n",
            "95/95 - 14s - loss: 0.2142 - accuracy: 0.9226 - val_loss: 0.2656 - val_accuracy: 0.8911\n",
            "Epoch 83/200\n",
            "95/95 - 14s - loss: 0.2150 - accuracy: 0.9192 - val_loss: 0.2567 - val_accuracy: 0.8991\n",
            "Epoch 84/200\n",
            "95/95 - 14s - loss: 0.2135 - accuracy: 0.9222 - val_loss: 0.2563 - val_accuracy: 0.9004\n",
            "Epoch 85/200\n",
            "95/95 - 14s - loss: 0.2136 - accuracy: 0.9222 - val_loss: 0.2574 - val_accuracy: 0.8938\n",
            "Epoch 86/200\n",
            "95/95 - 14s - loss: 0.2120 - accuracy: 0.9222 - val_loss: 0.2555 - val_accuracy: 0.8977\n",
            "Epoch 87/200\n",
            "95/95 - 14s - loss: 0.2128 - accuracy: 0.9232 - val_loss: 0.2554 - val_accuracy: 0.8977\n",
            "Epoch 88/200\n",
            "95/95 - 14s - loss: 0.2115 - accuracy: 0.9219 - val_loss: 0.2670 - val_accuracy: 0.8884\n",
            "Epoch 89/200\n",
            "95/95 - 14s - loss: 0.2107 - accuracy: 0.9239 - val_loss: 0.2607 - val_accuracy: 0.9031\n",
            "Epoch 90/200\n",
            "95/95 - 14s - loss: 0.2113 - accuracy: 0.9216 - val_loss: 0.2540 - val_accuracy: 0.8991\n",
            "Epoch 91/200\n",
            "95/95 - 14s - loss: 0.2105 - accuracy: 0.9222 - val_loss: 0.2548 - val_accuracy: 0.8951\n",
            "Epoch 92/200\n",
            "95/95 - 14s - loss: 0.2094 - accuracy: 0.9216 - val_loss: 0.2539 - val_accuracy: 0.8977\n",
            "Epoch 93/200\n",
            "95/95 - 14s - loss: 0.2096 - accuracy: 0.9222 - val_loss: 0.2535 - val_accuracy: 0.8991\n",
            "Epoch 94/200\n",
            "95/95 - 14s - loss: 0.2091 - accuracy: 0.9232 - val_loss: 0.2610 - val_accuracy: 0.9004\n",
            "Epoch 95/200\n",
            "95/95 - 14s - loss: 0.2087 - accuracy: 0.9246 - val_loss: 0.3098 - val_accuracy: 0.8619\n",
            "Epoch 96/200\n",
            "95/95 - 14s - loss: 0.2105 - accuracy: 0.9216 - val_loss: 0.2540 - val_accuracy: 0.8991\n",
            "Epoch 97/200\n",
            "95/95 - 14s - loss: 0.2075 - accuracy: 0.9232 - val_loss: 0.2525 - val_accuracy: 0.9004\n",
            "Epoch 98/200\n",
            "95/95 - 14s - loss: 0.2073 - accuracy: 0.9239 - val_loss: 0.2932 - val_accuracy: 0.8805\n",
            "Epoch 99/200\n",
            "95/95 - 14s - loss: 0.2094 - accuracy: 0.9226 - val_loss: 0.2526 - val_accuracy: 0.9017\n",
            "Epoch 100/200\n",
            "95/95 - 14s - loss: 0.2063 - accuracy: 0.9259 - val_loss: 0.2517 - val_accuracy: 0.8991\n",
            "Epoch 101/200\n",
            "95/95 - 14s - loss: 0.2060 - accuracy: 0.9239 - val_loss: 0.2511 - val_accuracy: 0.8977\n",
            "Epoch 102/200\n",
            "95/95 - 14s - loss: 0.2054 - accuracy: 0.9256 - val_loss: 0.3920 - val_accuracy: 0.8353\n",
            "Epoch 103/200\n",
            "95/95 - 14s - loss: 0.2124 - accuracy: 0.9206 - val_loss: 0.2537 - val_accuracy: 0.9004\n",
            "Epoch 104/200\n",
            "95/95 - 14s - loss: 0.2048 - accuracy: 0.9266 - val_loss: 0.2514 - val_accuracy: 0.9004\n",
            "Epoch 105/200\n",
            "95/95 - 14s - loss: 0.2045 - accuracy: 0.9269 - val_loss: 0.2533 - val_accuracy: 0.9044\n",
            "Epoch 106/200\n",
            "95/95 - 14s - loss: 0.2046 - accuracy: 0.9236 - val_loss: 0.2512 - val_accuracy: 0.8991\n",
            "Epoch 107/200\n",
            "95/95 - 14s - loss: 0.2032 - accuracy: 0.9276 - val_loss: 0.2502 - val_accuracy: 0.9017\n",
            "Epoch 108/200\n",
            "95/95 - 14s - loss: 0.2022 - accuracy: 0.9266 - val_loss: 0.2503 - val_accuracy: 0.9004\n",
            "Epoch 109/200\n",
            "95/95 - 14s - loss: 0.2027 - accuracy: 0.9269 - val_loss: 0.2494 - val_accuracy: 0.8977\n",
            "Epoch 110/200\n",
            "95/95 - 14s - loss: 0.2029 - accuracy: 0.9269 - val_loss: 0.2491 - val_accuracy: 0.8991\n",
            "Epoch 111/200\n",
            "95/95 - 14s - loss: 0.2021 - accuracy: 0.9262 - val_loss: 0.2487 - val_accuracy: 0.8991\n",
            "Epoch 112/200\n",
            "95/95 - 14s - loss: 0.2018 - accuracy: 0.9252 - val_loss: 0.2489 - val_accuracy: 0.9031\n",
            "Epoch 113/200\n",
            "95/95 - 14s - loss: 0.2005 - accuracy: 0.9272 - val_loss: 0.3474 - val_accuracy: 0.8459\n",
            "Epoch 114/200\n",
            "95/95 - 14s - loss: 0.2059 - accuracy: 0.9256 - val_loss: 0.2475 - val_accuracy: 0.9044\n",
            "Epoch 115/200\n",
            "95/95 - 14s - loss: 0.2007 - accuracy: 0.9272 - val_loss: 0.2494 - val_accuracy: 0.9084\n",
            "Epoch 116/200\n",
            "95/95 - 14s - loss: 0.2002 - accuracy: 0.9262 - val_loss: 0.2477 - val_accuracy: 0.9031\n",
            "Epoch 117/200\n",
            "95/95 - 14s - loss: 0.1996 - accuracy: 0.9266 - val_loss: 0.2518 - val_accuracy: 0.9031\n",
            "Epoch 118/200\n",
            "95/95 - 14s - loss: 0.1997 - accuracy: 0.9262 - val_loss: 0.3073 - val_accuracy: 0.8752\n",
            "Epoch 119/200\n",
            "95/95 - 14s - loss: 0.2021 - accuracy: 0.9266 - val_loss: 0.2468 - val_accuracy: 0.9057\n",
            "Epoch 120/200\n",
            "95/95 - 14s - loss: 0.1991 - accuracy: 0.9262 - val_loss: 0.2476 - val_accuracy: 0.9044\n",
            "Epoch 121/200\n",
            "95/95 - 14s - loss: 0.1984 - accuracy: 0.9276 - val_loss: 0.2495 - val_accuracy: 0.9044\n",
            "Epoch 122/200\n",
            "95/95 - 14s - loss: 0.1990 - accuracy: 0.9262 - val_loss: 0.2472 - val_accuracy: 0.9031\n",
            "Epoch 123/200\n",
            "95/95 - 14s - loss: 0.1980 - accuracy: 0.9289 - val_loss: 0.2532 - val_accuracy: 0.9017\n",
            "Epoch 124/200\n",
            "95/95 - 14s - loss: 0.1983 - accuracy: 0.9279 - val_loss: 0.2461 - val_accuracy: 0.9044\n",
            "Epoch 125/200\n",
            "95/95 - 14s - loss: 0.1977 - accuracy: 0.9292 - val_loss: 0.2463 - val_accuracy: 0.9057\n",
            "Epoch 126/200\n",
            "95/95 - 14s - loss: 0.1973 - accuracy: 0.9279 - val_loss: 0.2467 - val_accuracy: 0.9044\n",
            "Epoch 127/200\n",
            "95/95 - 14s - loss: 0.1960 - accuracy: 0.9279 - val_loss: 0.2501 - val_accuracy: 0.9044\n",
            "Epoch 128/200\n",
            "95/95 - 14s - loss: 0.1970 - accuracy: 0.9292 - val_loss: 0.2470 - val_accuracy: 0.8991\n",
            "Epoch 129/200\n",
            "95/95 - 14s - loss: 0.1968 - accuracy: 0.9309 - val_loss: 0.2451 - val_accuracy: 0.9031\n",
            "Epoch 130/200\n",
            "95/95 - 14s - loss: 0.1965 - accuracy: 0.9279 - val_loss: 0.2452 - val_accuracy: 0.9004\n",
            "Epoch 131/200\n",
            "95/95 - 14s - loss: 0.1955 - accuracy: 0.9295 - val_loss: 0.2457 - val_accuracy: 0.9017\n",
            "Epoch 132/200\n",
            "95/95 - 14s - loss: 0.1955 - accuracy: 0.9302 - val_loss: 0.2525 - val_accuracy: 0.9031\n",
            "Epoch 133/200\n",
            "95/95 - 14s - loss: 0.1953 - accuracy: 0.9299 - val_loss: 0.2602 - val_accuracy: 0.8938\n",
            "Epoch 134/200\n",
            "95/95 - 14s - loss: 0.1948 - accuracy: 0.9319 - val_loss: 0.2503 - val_accuracy: 0.9031\n",
            "Epoch 135/200\n",
            "95/95 - 14s - loss: 0.1946 - accuracy: 0.9295 - val_loss: 0.2457 - val_accuracy: 0.9004\n",
            "Epoch 136/200\n",
            "95/95 - 14s - loss: 0.1938 - accuracy: 0.9302 - val_loss: 0.2920 - val_accuracy: 0.8765\n",
            "Epoch 137/200\n",
            "95/95 - 14s - loss: 0.1946 - accuracy: 0.9302 - val_loss: 0.2464 - val_accuracy: 0.8991\n",
            "Epoch 138/200\n",
            "95/95 - 14s - loss: 0.1926 - accuracy: 0.9329 - val_loss: 0.2440 - val_accuracy: 0.9097\n",
            "Epoch 139/200\n",
            "95/95 - 14s - loss: 0.1932 - accuracy: 0.9289 - val_loss: 0.2443 - val_accuracy: 0.9031\n",
            "Epoch 140/200\n",
            "95/95 - 14s - loss: 0.1921 - accuracy: 0.9309 - val_loss: 0.2474 - val_accuracy: 0.9084\n",
            "Epoch 141/200\n",
            "95/95 - 14s - loss: 0.1928 - accuracy: 0.9299 - val_loss: 0.3637 - val_accuracy: 0.8393\n",
            "Epoch 142/200\n",
            "95/95 - 14s - loss: 0.1965 - accuracy: 0.9282 - val_loss: 0.2477 - val_accuracy: 0.8977\n",
            "Epoch 143/200\n",
            "95/95 - 14s - loss: 0.1924 - accuracy: 0.9315 - val_loss: 0.2432 - val_accuracy: 0.9044\n",
            "Epoch 144/200\n",
            "95/95 - 14s - loss: 0.1920 - accuracy: 0.9282 - val_loss: 0.2438 - val_accuracy: 0.9057\n",
            "Epoch 145/200\n",
            "95/95 - 14s - loss: 0.1918 - accuracy: 0.9322 - val_loss: 0.3088 - val_accuracy: 0.8792\n",
            "Epoch 146/200\n",
            "95/95 - 14s - loss: 0.1940 - accuracy: 0.9302 - val_loss: 0.2660 - val_accuracy: 0.8924\n",
            "Epoch 147/200\n",
            "95/95 - 14s - loss: 0.1918 - accuracy: 0.9322 - val_loss: 0.2452 - val_accuracy: 0.8977\n",
            "Epoch 148/200\n",
            "95/95 - 14s - loss: 0.1912 - accuracy: 0.9315 - val_loss: 0.2427 - val_accuracy: 0.9057\n",
            "Epoch 149/200\n",
            "95/95 - 14s - loss: 0.1908 - accuracy: 0.9315 - val_loss: 0.2424 - val_accuracy: 0.9084\n",
            "Epoch 150/200\n",
            "95/95 - 14s - loss: 0.1903 - accuracy: 0.9339 - val_loss: 0.2421 - val_accuracy: 0.9084\n",
            "Epoch 151/200\n",
            "95/95 - 14s - loss: 0.1902 - accuracy: 0.9319 - val_loss: 0.2425 - val_accuracy: 0.9070\n",
            "Epoch 152/200\n",
            "95/95 - 14s - loss: 0.1896 - accuracy: 0.9325 - val_loss: 0.2422 - val_accuracy: 0.9070\n",
            "Epoch 153/200\n",
            "95/95 - 14s - loss: 0.1892 - accuracy: 0.9315 - val_loss: 0.2445 - val_accuracy: 0.9044\n",
            "Epoch 154/200\n",
            "95/95 - 14s - loss: 0.1898 - accuracy: 0.9302 - val_loss: 0.2476 - val_accuracy: 0.9057\n",
            "Epoch 155/200\n",
            "95/95 - 14s - loss: 0.1894 - accuracy: 0.9302 - val_loss: 0.2426 - val_accuracy: 0.9057\n",
            "Epoch 156/200\n",
            "95/95 - 14s - loss: 0.1888 - accuracy: 0.9322 - val_loss: 0.2440 - val_accuracy: 0.9044\n",
            "Epoch 157/200\n",
            "95/95 - 14s - loss: 0.1885 - accuracy: 0.9345 - val_loss: 0.2430 - val_accuracy: 0.9070\n",
            "Epoch 158/200\n",
            "95/95 - 14s - loss: 0.1885 - accuracy: 0.9312 - val_loss: 0.2427 - val_accuracy: 0.9070\n",
            "Epoch 159/200\n",
            "95/95 - 14s - loss: 0.1876 - accuracy: 0.9329 - val_loss: 0.2445 - val_accuracy: 0.9031\n",
            "Epoch 160/200\n",
            "95/95 - 14s - loss: 0.1882 - accuracy: 0.9329 - val_loss: 0.2414 - val_accuracy: 0.9084\n",
            "Epoch 161/200\n",
            "95/95 - 14s - loss: 0.1879 - accuracy: 0.9325 - val_loss: 0.2432 - val_accuracy: 0.9084\n",
            "Epoch 162/200\n",
            "95/95 - 14s - loss: 0.1880 - accuracy: 0.9322 - val_loss: 0.2406 - val_accuracy: 0.9044\n",
            "Epoch 163/200\n",
            "95/95 - 14s - loss: 0.1874 - accuracy: 0.9319 - val_loss: 0.2409 - val_accuracy: 0.9031\n",
            "Epoch 164/200\n",
            "95/95 - 14s - loss: 0.1871 - accuracy: 0.9329 - val_loss: 0.2428 - val_accuracy: 0.9044\n",
            "Epoch 165/200\n",
            "95/95 - 14s - loss: 0.1864 - accuracy: 0.9345 - val_loss: 0.2403 - val_accuracy: 0.9044\n",
            "Epoch 166/200\n",
            "95/95 - 14s - loss: 0.1864 - accuracy: 0.9339 - val_loss: 0.2401 - val_accuracy: 0.9070\n",
            "Epoch 167/200\n",
            "95/95 - 14s - loss: 0.1864 - accuracy: 0.9345 - val_loss: 0.2523 - val_accuracy: 0.8977\n",
            "Epoch 168/200\n",
            "95/95 - 14s - loss: 0.1868 - accuracy: 0.9322 - val_loss: 0.2403 - val_accuracy: 0.9044\n",
            "Epoch 169/200\n",
            "95/95 - 14s - loss: 0.1856 - accuracy: 0.9322 - val_loss: 0.2410 - val_accuracy: 0.9070\n",
            "Epoch 170/200\n",
            "95/95 - 14s - loss: 0.1850 - accuracy: 0.9322 - val_loss: 0.2399 - val_accuracy: 0.9057\n",
            "Epoch 171/200\n",
            "95/95 - 14s - loss: 0.1857 - accuracy: 0.9342 - val_loss: 0.2402 - val_accuracy: 0.9044\n",
            "Epoch 172/200\n",
            "95/95 - 14s - loss: 0.1850 - accuracy: 0.9335 - val_loss: 0.2608 - val_accuracy: 0.9004\n",
            "Epoch 173/200\n",
            "95/95 - 14s - loss: 0.1862 - accuracy: 0.9339 - val_loss: 0.2422 - val_accuracy: 0.9110\n",
            "Epoch 174/200\n",
            "95/95 - 14s - loss: 0.1852 - accuracy: 0.9332 - val_loss: 0.2991 - val_accuracy: 0.8738\n",
            "Epoch 175/200\n",
            "95/95 - 14s - loss: 0.1877 - accuracy: 0.9329 - val_loss: 0.2391 - val_accuracy: 0.9057\n",
            "Epoch 176/200\n",
            "95/95 - 14s - loss: 0.1851 - accuracy: 0.9339 - val_loss: 0.2398 - val_accuracy: 0.9084\n",
            "Epoch 177/200\n",
            "95/95 - 14s - loss: 0.1843 - accuracy: 0.9349 - val_loss: 0.2523 - val_accuracy: 0.9044\n",
            "Epoch 178/200\n",
            "95/95 - 14s - loss: 0.1847 - accuracy: 0.9319 - val_loss: 0.2432 - val_accuracy: 0.9004\n",
            "Epoch 179/200\n",
            "95/95 - 14s - loss: 0.1833 - accuracy: 0.9352 - val_loss: 0.3585 - val_accuracy: 0.8446\n",
            "Epoch 180/200\n",
            "95/95 - 14s - loss: 0.1896 - accuracy: 0.9295 - val_loss: 0.2544 - val_accuracy: 0.8964\n",
            "Epoch 181/200\n",
            "95/95 - 14s - loss: 0.1847 - accuracy: 0.9345 - val_loss: 0.2420 - val_accuracy: 0.9017\n",
            "Epoch 182/200\n",
            "95/95 - 14s - loss: 0.1833 - accuracy: 0.9352 - val_loss: 0.2911 - val_accuracy: 0.8752\n",
            "Epoch 183/200\n",
            "95/95 - 14s - loss: 0.1850 - accuracy: 0.9309 - val_loss: 0.2399 - val_accuracy: 0.9070\n",
            "Epoch 184/200\n",
            "95/95 - 14s - loss: 0.1837 - accuracy: 0.9345 - val_loss: 0.2391 - val_accuracy: 0.9084\n",
            "Epoch 185/200\n",
            "95/95 - 14s - loss: 0.1832 - accuracy: 0.9332 - val_loss: 0.2387 - val_accuracy: 0.9084\n",
            "Epoch 186/200\n",
            "95/95 - 14s - loss: 0.1827 - accuracy: 0.9345 - val_loss: 0.2388 - val_accuracy: 0.9070\n",
            "Epoch 187/200\n",
            "95/95 - 14s - loss: 0.1826 - accuracy: 0.9335 - val_loss: 0.2395 - val_accuracy: 0.9044\n",
            "Epoch 188/200\n",
            "95/95 - 14s - loss: 0.1822 - accuracy: 0.9345 - val_loss: 0.2381 - val_accuracy: 0.9084\n",
            "Epoch 189/200\n",
            "95/95 - 14s - loss: 0.1813 - accuracy: 0.9335 - val_loss: 0.2383 - val_accuracy: 0.9057\n",
            "Epoch 190/200\n",
            "95/95 - 14s - loss: 0.1820 - accuracy: 0.9345 - val_loss: 0.2411 - val_accuracy: 0.9031\n",
            "Epoch 191/200\n",
            "95/95 - 14s - loss: 0.1819 - accuracy: 0.9342 - val_loss: 0.2469 - val_accuracy: 0.9057\n",
            "Epoch 192/200\n",
            "95/95 - 14s - loss: 0.1818 - accuracy: 0.9335 - val_loss: 0.3398 - val_accuracy: 0.8499\n",
            "Epoch 193/200\n",
            "95/95 - 14s - loss: 0.1850 - accuracy: 0.9349 - val_loss: 0.2365 - val_accuracy: 0.9084\n",
            "Epoch 194/200\n",
            "95/95 - 14s - loss: 0.1806 - accuracy: 0.9369 - val_loss: 0.2407 - val_accuracy: 0.9031\n",
            "Epoch 195/200\n",
            "95/95 - 14s - loss: 0.1806 - accuracy: 0.9382 - val_loss: 0.2369 - val_accuracy: 0.9084\n",
            "Epoch 196/200\n",
            "95/95 - 14s - loss: 0.1815 - accuracy: 0.9369 - val_loss: 0.2500 - val_accuracy: 0.8991\n",
            "Epoch 197/200\n",
            "95/95 - 14s - loss: 0.1807 - accuracy: 0.9369 - val_loss: 0.2421 - val_accuracy: 0.9070\n",
            "Epoch 198/200\n",
            "95/95 - 14s - loss: 0.1810 - accuracy: 0.9365 - val_loss: 0.2371 - val_accuracy: 0.9070\n",
            "Epoch 199/200\n",
            "95/95 - 14s - loss: 0.1803 - accuracy: 0.9359 - val_loss: 0.2477 - val_accuracy: 0.9004\n",
            "Epoch 200/200\n",
            "95/95 - 14s - loss: 0.1805 - accuracy: 0.9369 - val_loss: 0.2452 - val_accuracy: 0.9070\n",
            "Saved model to disk\n"
          ]
        }
      ],
      "source": [
        "model.compile(\n",
        "    # set the loss as binary_crossentropy\n",
        "    loss=keras.losses.binary_crossentropy,\n",
        "    # set the optimizer as stochastic gradient descent\n",
        "    optimizer=keras.optimizers.SGD(lr=0.001),\n",
        "    # set the metric as accuracy\n",
        "    metrics=['accuracy']\n",
        ")\n",
        "\n",
        "\n",
        "# mock-train the model \n",
        "history=model.fit(\n",
        "    X_train[:,:,:,:],\n",
        "    y_train[:],\n",
        "    epochs=200,\n",
        "    verbose=2,\n",
        "    validation_data=(X_test[:,:,:,:], y_test[:])\n",
        ")\n",
        "model.save(\"vgg_model_brain.h5\")\n",
        "print(\"Saved model to disk\")"
      ]
    },
    {
      "cell_type": "code",
      "execution_count": null,
      "metadata": {
        "colab": {
          "base_uri": "https://localhost:8080/",
          "height": 573
        },
        "id": "DBFdhnNxpUQG",
        "outputId": "51989d45-4863-4097-d30c-f97bb2e001e0"
      },
      "outputs": [
        {
          "data": {
            "image/png": "[encoded data removed]",
            "text/plain": [
              "<Figure size 432x288 with 1 Axes>"
            ]
          },
          "metadata": {
            "needs_background": "light",
            "tags": []
          },
          "output_type": "display_data"
        },
        {
          "data": {
            "image/png": "[encoded data removed]",
            "text/plain": [
              "<Figure size 432x288 with 1 Axes>"
            ]
          },
          "metadata": {
            "needs_background": "light",
            "tags": []
          },
          "output_type": "display_data"
        }
      ],
      "source": [
        "plt.plot(history.history['accuracy'])\n",
        "plt.plot(history.history['val_accuracy'])\n",
        "plt.title('model accuracy')\n",
        "plt.ylabel('accuracy')\n",
        "plt.xlabel('epoch')\n",
        "plt.legend(['train', 'test'], loc='lower right')\n",
        "plt.show()\n",
        "\n",
        "plt.plot(history.history['loss'])\n",
        "plt.plot(history.history['val_loss'])\n",
        "plt.title('model loss')\n",
        "plt.ylabel('loss')\n",
        "plt.xlabel('epoch')\n",
        "plt.legend(['train', 'test'], loc='lower right')\n",
        "plt.show()"
      ]
    },
    {
      "cell_type": "code",
      "execution_count": null,
      "metadata": {
        "colab": {
          "base_uri": "https://localhost:8080/"
        },
        "id": "RBWOyNCHpeAy",
        "outputId": "87a4f1b8-b4bc-4f33-bcec-2d2963d9804b"
      },
      "outputs": [
        {
          "name": "stdout",
          "output_type": "stream",
          "text": [
            "24/24 [==============================] - 3s 114ms/step - loss: 0.2452 - accuracy: 0.9070\n",
            "Eval loss: 0.24524126946926117\n",
            "Eval accuracy: 0.9070385098457336\n"
          ]
        }
      ],
      "source": [
        "pretrained_cnn = keras.models.load_model('./vgg_model_brain.h5')\n",
        "\n",
        "# evaluate model on holdout set\n",
        "eval_score = pretrained_cnn.evaluate(X_test,y_test)\n",
        "# print loss score\n",
        "print('Eval loss:',eval_score[0])\n",
        "# print accuracy score\n",
        "print('Eval accuracy:',eval_score[1] )"
      ]
    },
    {
      "cell_type": "code",
      "execution_count": null,
      "metadata": {
        "colab": {
          "base_uri": "https://localhost:8080/"
        },
        "id": "v4pexeH8pmxQ",
        "outputId": "ce1dfa1d-ff6d-4397-fe62-c1410556b5d1"
      },
      "outputs": [
        {
          "name": "stderr",
          "output_type": "stream",
          "text": [
            "/usr/local/lib/python3.7/dist-packages/keras/engine/sequential.py:450: UserWarning: `model.predict_classes()` is deprecated and will be removed after 2021-01-01. Please use instead:* `np.argmax(model.predict(x), axis=-1)`,   if your model does multi-class classification   (e.g. if it uses a `softmax` last-layer activation).* `(model.predict(x) > 0.5).astype(\"int32\")`,   if your model does binary classification   (e.g. if it uses a `sigmoid` last-layer activation).\n",
            "  warnings.warn('`model.predict_classes()` is deprecated and '\n"
          ]
        }
      ],
      "source": [
        "y_pred = pretrained_cnn.predict_classes(X_test)"
      ]
    },
    {
      "cell_type": "code",
      "execution_count": null,
      "metadata": {
        "colab": {
          "base_uri": "https://localhost:8080/"
        },
        "id": "_Fk0E4_kptj2",
        "outputId": "d180bb4e-ff8f-4dc4-bd30-df39268e21e5"
      },
      "outputs": [
        {
          "data": {
            "text/plain": [
              "{'No Tumor': {'f1-score': 0.916267942583732,\n",
              "  'precision': 0.8784403669724771,\n",
              "  'recall': 0.9575,\n",
              "  'support': 400},\n",
              " 'Tumor': {'f1-score': 0.8955223880597015,\n",
              "  'precision': 0.9463722397476341,\n",
              "  'recall': 0.8498583569405099,\n",
              "  'support': 353},\n",
              " 'accuracy': 0.9070385126162018,\n",
              " 'macro avg': {'f1-score': 0.9058951653217168,\n",
              "  'precision': 0.9124063033600556,\n",
              "  'recall': 0.9036791784702549,\n",
              "  'support': 753},\n",
              " 'weighted avg': {'f1-score': 0.9065426029463047,\n",
              "  'precision': 0.9102862515536594,\n",
              "  'recall': 0.9070385126162018,\n",
              "  'support': 753}}"
            ]
          },
          "execution_count": 26,
          "metadata": {
            "tags": []
          },
          "output_type": "execute_result"
        }
      ],
      "source": [
        "from sklearn.metrics import confusion_matrix , classification_report\n",
        "target_classes = ['No Tumor','Tumor']\n",
        "classification_report(y_test , y_pred , output_dict = True\n",
        "                      , target_names=target_classes)"
      ]
    },
    {
      "cell_type": "code",
      "execution_count": null,
      "metadata": {
        "colab": {
          "base_uri": "https://localhost:8080/"
        },
        "id": "CEICs-BlpvAX",
        "outputId": "6734308d-a4e3-43f6-9d77-7755c3f67e40"
      },
      "outputs": [
        {
          "data": {
            "text/plain": [
              "array([[383,  17],\n",
              "       [ 53, 300]])"
            ]
          },
          "execution_count": 27,
          "metadata": {
            "tags": []
          },
          "output_type": "execute_result"
        }
      ],
      "source": [
        "confusion_matrix(y_test , y_pred )"
      ]
    }
  ],
  "metadata": {
    "accelerator": "GPU",
    "colab": {
      "provenance": []
    },
    "kernelspec": {
      "display_name": "Python 3",
      "language": "python",
      "name": "python3"
    },
    "language_info": {
      "codemirror_mode": {
        "name": "ipython",
        "version": 3
      },
      "file_extension": ".py",
      "mimetype": "text/x-python",
      "name": "python",
      "nbconvert_exporter": "python",
      "pygments_lexer": "ipython3",
      "version": "3.7.4"
    }
  },
  "nbformat": 4,
  "nbformat_minor": 0
}